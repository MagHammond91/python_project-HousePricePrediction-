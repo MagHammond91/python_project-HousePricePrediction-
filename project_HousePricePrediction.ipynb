{
 "cells": [
  {
   "cell_type": "code",
   "execution_count": null,
   "id": "15e91712",
   "metadata": {},
   "outputs": [
    {
     "name": "stderr",
     "output_type": "stream",
     "text": [
      "c:\\Users\\xdext\\anaconda3\\Lib\\site-packages\\pandas\\core\\arrays\\masked.py:60: UserWarning: Pandas requires version '1.3.6' or newer of 'bottleneck' (version '1.3.5' currently installed).\n",
      "  from pandas.core import (\n"
     ]
    }
   ],
   "source": [
    "## for loading and preprocessing \n",
    "import pandas as pd\n",
    "import numpy as np \n",
    "\n",
    "## for data visualization \n",
    "import matplotlib.pyplot as plt\n",
    "import seaborn as sns\n",
    "import plotly.express as px\n",
    "import plotly.graph_objs as go\n",
    "\n",
    "## splitting dataset and feature engineering \n",
    "from sklearn.model_selection import train_test_split\n",
    "from sklearn.feature_extraction import DictVectorizer\n",
    "from sklearn import feature_selection\n",
    "from sklearn import model_selection\n",
    "from sklearn.metrics import accuracy_score \n",
    "from sklearn.linear_model import LogisticRegression\n",
    "from sklearn.svm import SVC\n",
    "from sklearn.naive_bayes import GaussianNB\n",
    "from sklearn.ensemble import RandomForestClassifier,GradientBoostingClassifier\n",
    "from sklearn.neighbors import KNeighborsClassifier\n",
    "from sklearn.linear_model import LinearRegression\n",
    "from sklearn.ensemble import RandomForestRegressor\n",
    "\n",
    "import pickle\n",
    "\n",
    "import warnings\n",
    "warnings.filterwarnings('ignore')"
   ]
  },
  {
   "cell_type": "code",
   "execution_count": 2,
   "id": "62cdf3ef",
   "metadata": {},
   "outputs": [],
   "source": [
    "#read dataset\n",
    "data = pd.read_csv(\"Housing1.csv\")"
   ]
  },
  {
   "cell_type": "code",
   "execution_count": 3,
   "id": "c664060a",
   "metadata": {},
   "outputs": [],
   "source": [
    "#create a copy of dataset\n",
    "df = data.copy()"
   ]
  },
  {
   "cell_type": "code",
   "execution_count": 4,
   "id": "f3654711",
   "metadata": {},
   "outputs": [
    {
     "data": {
      "text/html": [
       "<div>\n",
       "<style scoped>\n",
       "    .dataframe tbody tr th:only-of-type {\n",
       "        vertical-align: middle;\n",
       "    }\n",
       "\n",
       "    .dataframe tbody tr th {\n",
       "        vertical-align: top;\n",
       "    }\n",
       "\n",
       "    .dataframe thead th {\n",
       "        text-align: right;\n",
       "    }\n",
       "</style>\n",
       "<table border=\"1\" class=\"dataframe\">\n",
       "  <thead>\n",
       "    <tr style=\"text-align: right;\">\n",
       "      <th></th>\n",
       "      <th>price</th>\n",
       "      <th>area</th>\n",
       "      <th>bedrooms</th>\n",
       "      <th>bathrooms</th>\n",
       "      <th>stories</th>\n",
       "      <th>mainroad</th>\n",
       "      <th>guestroom</th>\n",
       "      <th>basement</th>\n",
       "      <th>hotwaterheating</th>\n",
       "      <th>airconditioning</th>\n",
       "      <th>parking</th>\n",
       "      <th>prefarea</th>\n",
       "      <th>furnishingstatus</th>\n",
       "    </tr>\n",
       "  </thead>\n",
       "  <tbody>\n",
       "    <tr>\n",
       "      <th>0</th>\n",
       "      <td>13300000</td>\n",
       "      <td>7420</td>\n",
       "      <td>4</td>\n",
       "      <td>2</td>\n",
       "      <td>3</td>\n",
       "      <td>yes</td>\n",
       "      <td>no</td>\n",
       "      <td>no</td>\n",
       "      <td>no</td>\n",
       "      <td>yes</td>\n",
       "      <td>2</td>\n",
       "      <td>yes</td>\n",
       "      <td>furnished</td>\n",
       "    </tr>\n",
       "    <tr>\n",
       "      <th>1</th>\n",
       "      <td>12250000</td>\n",
       "      <td>8960</td>\n",
       "      <td>4</td>\n",
       "      <td>4</td>\n",
       "      <td>4</td>\n",
       "      <td>yes</td>\n",
       "      <td>no</td>\n",
       "      <td>no</td>\n",
       "      <td>no</td>\n",
       "      <td>yes</td>\n",
       "      <td>3</td>\n",
       "      <td>no</td>\n",
       "      <td>furnished</td>\n",
       "    </tr>\n",
       "    <tr>\n",
       "      <th>2</th>\n",
       "      <td>12250000</td>\n",
       "      <td>9960</td>\n",
       "      <td>3</td>\n",
       "      <td>2</td>\n",
       "      <td>2</td>\n",
       "      <td>yes</td>\n",
       "      <td>no</td>\n",
       "      <td>yes</td>\n",
       "      <td>no</td>\n",
       "      <td>no</td>\n",
       "      <td>2</td>\n",
       "      <td>yes</td>\n",
       "      <td>semi-furnished</td>\n",
       "    </tr>\n",
       "    <tr>\n",
       "      <th>3</th>\n",
       "      <td>12215000</td>\n",
       "      <td>7500</td>\n",
       "      <td>4</td>\n",
       "      <td>2</td>\n",
       "      <td>2</td>\n",
       "      <td>yes</td>\n",
       "      <td>no</td>\n",
       "      <td>yes</td>\n",
       "      <td>no</td>\n",
       "      <td>yes</td>\n",
       "      <td>3</td>\n",
       "      <td>yes</td>\n",
       "      <td>furnished</td>\n",
       "    </tr>\n",
       "    <tr>\n",
       "      <th>4</th>\n",
       "      <td>11410000</td>\n",
       "      <td>7420</td>\n",
       "      <td>4</td>\n",
       "      <td>1</td>\n",
       "      <td>2</td>\n",
       "      <td>yes</td>\n",
       "      <td>yes</td>\n",
       "      <td>yes</td>\n",
       "      <td>no</td>\n",
       "      <td>yes</td>\n",
       "      <td>2</td>\n",
       "      <td>no</td>\n",
       "      <td>furnished</td>\n",
       "    </tr>\n",
       "  </tbody>\n",
       "</table>\n",
       "</div>"
      ],
      "text/plain": [
       "      price  area  bedrooms  bathrooms  stories mainroad guestroom basement  \\\n",
       "0  13300000  7420         4          2        3      yes        no       no   \n",
       "1  12250000  8960         4          4        4      yes        no       no   \n",
       "2  12250000  9960         3          2        2      yes        no      yes   \n",
       "3  12215000  7500         4          2        2      yes        no      yes   \n",
       "4  11410000  7420         4          1        2      yes       yes      yes   \n",
       "\n",
       "  hotwaterheating airconditioning  parking prefarea furnishingstatus  \n",
       "0              no             yes        2      yes        furnished  \n",
       "1              no             yes        3       no        furnished  \n",
       "2              no              no        2      yes   semi-furnished  \n",
       "3              no             yes        3      yes        furnished  \n",
       "4              no             yes        2       no        furnished  "
      ]
     },
     "execution_count": 4,
     "metadata": {},
     "output_type": "execute_result"
    }
   ],
   "source": [
    "# View the first rows\n",
    "df.head()\n"
   ]
  },
  {
   "cell_type": "code",
   "execution_count": 5,
   "id": "961e1297",
   "metadata": {},
   "outputs": [
    {
     "data": {
      "text/html": [
       "<div>\n",
       "<style scoped>\n",
       "    .dataframe tbody tr th:only-of-type {\n",
       "        vertical-align: middle;\n",
       "    }\n",
       "\n",
       "    .dataframe tbody tr th {\n",
       "        vertical-align: top;\n",
       "    }\n",
       "\n",
       "    .dataframe thead th {\n",
       "        text-align: right;\n",
       "    }\n",
       "</style>\n",
       "<table border=\"1\" class=\"dataframe\">\n",
       "  <thead>\n",
       "    <tr style=\"text-align: right;\">\n",
       "      <th></th>\n",
       "      <th>price</th>\n",
       "      <th>area</th>\n",
       "      <th>bedrooms</th>\n",
       "      <th>bathrooms</th>\n",
       "      <th>stories</th>\n",
       "      <th>mainroad</th>\n",
       "      <th>guestroom</th>\n",
       "      <th>basement</th>\n",
       "      <th>hotwaterheating</th>\n",
       "      <th>airconditioning</th>\n",
       "      <th>parking</th>\n",
       "      <th>prefarea</th>\n",
       "      <th>furnishingstatus</th>\n",
       "    </tr>\n",
       "  </thead>\n",
       "  <tbody>\n",
       "    <tr>\n",
       "      <th>540</th>\n",
       "      <td>1820000</td>\n",
       "      <td>3000</td>\n",
       "      <td>2</td>\n",
       "      <td>1</td>\n",
       "      <td>1</td>\n",
       "      <td>yes</td>\n",
       "      <td>no</td>\n",
       "      <td>yes</td>\n",
       "      <td>no</td>\n",
       "      <td>no</td>\n",
       "      <td>2</td>\n",
       "      <td>no</td>\n",
       "      <td>unfurnished</td>\n",
       "    </tr>\n",
       "    <tr>\n",
       "      <th>541</th>\n",
       "      <td>1767150</td>\n",
       "      <td>2400</td>\n",
       "      <td>3</td>\n",
       "      <td>1</td>\n",
       "      <td>1</td>\n",
       "      <td>no</td>\n",
       "      <td>no</td>\n",
       "      <td>no</td>\n",
       "      <td>no</td>\n",
       "      <td>no</td>\n",
       "      <td>0</td>\n",
       "      <td>no</td>\n",
       "      <td>semi-furnished</td>\n",
       "    </tr>\n",
       "    <tr>\n",
       "      <th>542</th>\n",
       "      <td>1750000</td>\n",
       "      <td>3620</td>\n",
       "      <td>2</td>\n",
       "      <td>1</td>\n",
       "      <td>1</td>\n",
       "      <td>yes</td>\n",
       "      <td>no</td>\n",
       "      <td>no</td>\n",
       "      <td>no</td>\n",
       "      <td>no</td>\n",
       "      <td>0</td>\n",
       "      <td>no</td>\n",
       "      <td>unfurnished</td>\n",
       "    </tr>\n",
       "    <tr>\n",
       "      <th>543</th>\n",
       "      <td>1750000</td>\n",
       "      <td>2910</td>\n",
       "      <td>3</td>\n",
       "      <td>1</td>\n",
       "      <td>1</td>\n",
       "      <td>no</td>\n",
       "      <td>no</td>\n",
       "      <td>no</td>\n",
       "      <td>no</td>\n",
       "      <td>no</td>\n",
       "      <td>0</td>\n",
       "      <td>no</td>\n",
       "      <td>furnished</td>\n",
       "    </tr>\n",
       "    <tr>\n",
       "      <th>544</th>\n",
       "      <td>1750000</td>\n",
       "      <td>3850</td>\n",
       "      <td>3</td>\n",
       "      <td>1</td>\n",
       "      <td>2</td>\n",
       "      <td>yes</td>\n",
       "      <td>no</td>\n",
       "      <td>no</td>\n",
       "      <td>no</td>\n",
       "      <td>no</td>\n",
       "      <td>0</td>\n",
       "      <td>no</td>\n",
       "      <td>unfurnished</td>\n",
       "    </tr>\n",
       "  </tbody>\n",
       "</table>\n",
       "</div>"
      ],
      "text/plain": [
       "       price  area  bedrooms  bathrooms  stories mainroad guestroom basement  \\\n",
       "540  1820000  3000         2          1        1      yes        no      yes   \n",
       "541  1767150  2400         3          1        1       no        no       no   \n",
       "542  1750000  3620         2          1        1      yes        no       no   \n",
       "543  1750000  2910         3          1        1       no        no       no   \n",
       "544  1750000  3850         3          1        2      yes        no       no   \n",
       "\n",
       "    hotwaterheating airconditioning  parking prefarea furnishingstatus  \n",
       "540              no              no        2       no      unfurnished  \n",
       "541              no              no        0       no   semi-furnished  \n",
       "542              no              no        0       no      unfurnished  \n",
       "543              no              no        0       no        furnished  \n",
       "544              no              no        0       no      unfurnished  "
      ]
     },
     "execution_count": 5,
     "metadata": {},
     "output_type": "execute_result"
    }
   ],
   "source": [
    "# view the last five rows \n",
    "df.tail()"
   ]
  },
  {
   "cell_type": "code",
   "execution_count": 6,
   "id": "b9edb04e",
   "metadata": {},
   "outputs": [
    {
     "name": "stdout",
     "output_type": "stream",
     "text": [
      "Total number of rows: 545 -> Total number of columns: 13\n"
     ]
    }
   ],
   "source": [
    "## check the number of rows and columns \n",
    "print(f'Total number of rows: {df.shape[0]} -> Total number of columns: {df.shape[1]}')"
   ]
  },
  {
   "cell_type": "code",
   "execution_count": null,
   "id": "a820fa4c",
   "metadata": {},
   "outputs": [
    {
     "name": "stdout",
     "output_type": "stream",
     "text": [
      "<class 'pandas.core.frame.DataFrame'>\n",
      "RangeIndex: 545 entries, 0 to 544\n",
      "Data columns (total 13 columns):\n",
      " #   Column            Non-Null Count  Dtype \n",
      "---  ------            --------------  ----- \n",
      " 0   price             545 non-null    int64 \n",
      " 1   area              545 non-null    int64 \n",
      " 2   bedrooms          545 non-null    int64 \n",
      " 3   bathrooms         545 non-null    int64 \n",
      " 4   stories           545 non-null    int64 \n",
      " 5   mainroad          545 non-null    object\n",
      " 6   guestroom         545 non-null    object\n",
      " 7   basement          545 non-null    object\n",
      " 8   hotwaterheating   545 non-null    object\n",
      " 9   airconditioning   545 non-null    object\n",
      " 10  parking           545 non-null    int64 \n",
      " 11  prefarea          545 non-null    object\n",
      " 12  furnishingstatus  545 non-null    object\n",
      "dtypes: int64(6), object(7)\n",
      "memory usage: 55.5+ KB\n"
     ]
    }
   ],
   "source": [
    "# get a summary description of the data\n",
    "df.info()"
   ]
  },
  {
   "cell_type": "code",
   "execution_count": 8,
   "id": "8d703adc",
   "metadata": {},
   "outputs": [
    {
     "data": {
      "text/plain": [
       "price               0\n",
       "area                0\n",
       "bedrooms            0\n",
       "bathrooms           0\n",
       "stories             0\n",
       "mainroad            0\n",
       "guestroom           0\n",
       "basement            0\n",
       "hotwaterheating     0\n",
       "airconditioning     0\n",
       "parking             0\n",
       "prefarea            0\n",
       "furnishingstatus    0\n",
       "dtype: int64"
      ]
     },
     "execution_count": 8,
     "metadata": {},
     "output_type": "execute_result"
    }
   ],
   "source": [
    "## checking for missing values\n",
    "df.isnull().sum()"
   ]
  },
  {
   "cell_type": "code",
   "execution_count": 9,
   "id": "97bd0063",
   "metadata": {},
   "outputs": [
    {
     "data": {
      "text/plain": [
       "0"
      ]
     },
     "execution_count": 9,
     "metadata": {},
     "output_type": "execute_result"
    }
   ],
   "source": [
    "## checking for duplicated values \n",
    "df.duplicated().sum()"
   ]
  },
  {
   "cell_type": "code",
   "execution_count": 10,
   "id": "8a31071e",
   "metadata": {},
   "outputs": [
    {
     "data": {
      "text/plain": [
       "Index(['price', 'area', 'bedrooms', 'bathrooms', 'stories', 'mainroad',\n",
       "       'guestroom', 'basement', 'hotwaterheating', 'airconditioning',\n",
       "       'parking', 'prefarea', 'furnishingstatus'],\n",
       "      dtype='object')"
      ]
     },
     "execution_count": 10,
     "metadata": {},
     "output_type": "execute_result"
    }
   ],
   "source": [
    "#printing column names\n",
    "df.columns"
   ]
  },
  {
   "cell_type": "code",
   "execution_count": 11,
   "id": "58fff50a",
   "metadata": {},
   "outputs": [
    {
     "name": "stdout",
     "output_type": "stream",
     "text": [
      "price\n",
      "[13300000 12250000 12215000 11410000 10850000 10150000  9870000  9800000\n",
      "  9681000  9310000  9240000  9100000  8960000  8890000  8855000  8750000\n",
      "  8680000  8645000  8575000  8540000  8463000  8400000  8295000  8190000\n",
      "  8120000  8080940  8043000  7980000  7962500  7910000  7875000  7840000\n",
      "  7700000  7560000  7525000  7490000  7455000  7420000  7350000  7343000\n",
      "  7245000  7210000  7140000  7070000  7035000  7000000  6930000  6895000\n",
      "  6860000  6790000  6755000  6720000  6685000  6650000  6629000  6615000\n",
      "  6580000  6510000  6475000  6440000  6419000  6405000  6300000  6293000\n",
      "  6265000  6230000  6195000  6160000  6125000  6107500  6090000  6083000\n",
      "  6020000  5950000  5943000  5880000  5873000  5866000  5810000  5803000\n",
      "  5775000  5740000  5652500  5600000  5565000  5530000  5523000  5495000\n",
      "  5460000  5425000  5390000  5383000  5320000  5285000  5250000  5243000\n",
      "  5229000  5215000  5145000  5110000  5075000  5040000  5033000  5005000\n",
      "  4970000  4956000  4935000  4907000  4900000  4893000  4865000  4830000\n",
      "  4795000  4767000  4760000  4753000  4690000  4655000  4620000  4613000\n",
      "  4585000  4550000  4543000  4515000  4480000  4473000  4445000  4410000\n",
      "  4403000  4382000  4375000  4340000  4319000  4305000  4277000  4270000\n",
      "  4235000  4200000  4193000  4165000  4130000  4123000  4098500  4095000\n",
      "  4060000  4025000  4007500  3990000  3920000  3885000  3850000  3836000\n",
      "  3815000  3780000  3773000  3745000  3710000  3703000  3675000  3640000\n",
      "  3633000  3605000  3570000  3535000  3500000  3493000  3465000  3430000\n",
      "  3423000  3395000  3360000  3353000  3332000  3325000  3290000  3255000\n",
      "  3234000  3220000  3150000  3143000  3129000  3118850  3115000  3087000\n",
      "  3080000  3045000  3010000  3003000  2975000  2961000  2940000  2870000\n",
      "  2852500  2835000  2800000  2730000  2695000  2660000  2653000  2604000\n",
      "  2590000  2520000  2485000  2450000  2408000  2380000  2345000  2310000\n",
      "  2275000  2240000  2233000  2135000  2100000  1960000  1890000  1855000\n",
      "  1820000  1767150  1750000]\n",
      "area\n",
      "[ 7420  8960  9960  7500  8580 16200  8100  5750 13200  6000  6550  3500\n",
      "  7800  6600  8500  4600  6420  4320  7155  8050  4560  8800  6540  8875\n",
      "  7950  5500  7475  7000  4880  5960  6840  7482  9000  6360  6480  4300\n",
      "  7440  6325  5150 11440  7680  8880  6240 11175  7700 12090  4000  5020\n",
      "  4040  4260  6500  5700 10500  3760  8250  6670  3960  7410  5000  6750\n",
      "  4800  7200  4100  6400  6350  4500  5450  3240  6615  8372  9620  6800\n",
      "  8000  6900  3700  7020  7231  6254  7320  6525 15600  7160 11460  5828\n",
      "  5200  5400  4640  5800  6660  4700  5136  4400  3300  3650  6100  2817\n",
      "  7980  3150  6210  6825  6710  6450 10269  8400  5300  3800  9800  8520\n",
      "  6050  7085  3180  3410  3000 11410  5720  3540  7600 10700  8150  4410\n",
      "  7686  2800  5948  4200  4520  4095  4120  4770  6300  2970  6720  4646\n",
      " 12900  3420  4995  4350  4160  6040  6862  4815  9166  6321 10240  6440\n",
      "  5170  3630  9667  3745  3880  5680  2870  5010  4510  3840  3640  2550\n",
      "  5320  5360  3520  4990  3510  3450  9860  5885  3162  3750  3968  4900\n",
      "  2880  4920  4950  3900  1905  4075  4032 10360  3400  2175  4360  7770\n",
      "  6650  2787  5040  5850  2610  2953  2747  2325  4079  2145  4840  4080\n",
      "  4046  4632  5985  6060  3600  3680  5600  5900  4992  4340  3460  4050\n",
      "  7260  3290  3816  8080  3780  7152  3850  2015  2176  3350  4820  5830\n",
      "  2856  2520  6930  3480  6020  3584  3120  5640  4280  3570  4130  2850\n",
      "  2275  4240  2135  3036  3990  7424  7350  3512  9500  5880 12944  3060\n",
      "  3185  1950  4785  4960  4750  3720  3100  2700  4775  2500  3792  3930\n",
      "  4370  2684  3986  1650  3069  5495  2398  2160  3090  2835  5076  4352\n",
      "  3660  3040  2640  2650  3934  2000  2430  2910  3210  3635  2475  3264\n",
      "  1836  3970  2400  3360  1700  3649  2990  3620]\n",
      "bedrooms\n",
      "[4 3 5 2 6 1]\n",
      "bathrooms\n",
      "[2 4 1 3]\n",
      "stories\n",
      "[3 4 2 1]\n",
      "mainroad\n",
      "['yes' 'no']\n",
      "guestroom\n",
      "['no' 'yes']\n",
      "basement\n",
      "['no' 'yes']\n",
      "hotwaterheating\n",
      "['no' 'yes']\n",
      "airconditioning\n",
      "['yes' 'no']\n",
      "parking\n",
      "[2 3 0 1]\n",
      "prefarea\n",
      "['yes' 'no']\n",
      "furnishingstatus\n",
      "['furnished' 'semi-furnished' 'unfurnished']\n"
     ]
    }
   ],
   "source": [
    "#printing unique values for all columns in the dataframe\n",
    "for col in df.columns:\n",
    "    print(col)\n",
    "    print(df[f'{col}'].unique())"
   ]
  },
  {
   "cell_type": "code",
   "execution_count": 12,
   "id": "75300652",
   "metadata": {},
   "outputs": [],
   "source": [
    "#Renaming of some columns\n",
    "df = df.rename(columns={'mainroad':'main_road', 'hotwaterheating':'hotwater_heating',\n",
    "                          'airconditioning':'air_conditioning', 'prefarea':'pref_area', 'furnishingstatus':'furnishing_status'})"
   ]
  },
  {
   "cell_type": "code",
   "execution_count": 13,
   "id": "0c210e3b",
   "metadata": {},
   "outputs": [
    {
     "data": {
      "text/plain": [
       "Index(['price', 'area', 'bedrooms', 'bathrooms', 'stories', 'main_road',\n",
       "       'guestroom', 'basement', 'hotwater_heating', 'air_conditioning',\n",
       "       'parking', 'pref_area', 'furnishing_status'],\n",
       "      dtype='object')"
      ]
     },
     "execution_count": 13,
     "metadata": {},
     "output_type": "execute_result"
    }
   ],
   "source": [
    "#printing column names\n",
    "df.columns"
   ]
  },
  {
   "cell_type": "code",
   "execution_count": 14,
   "id": "c43bfbeb",
   "metadata": {},
   "outputs": [
    {
     "data": {
      "text/html": [
       "<div>\n",
       "<style scoped>\n",
       "    .dataframe tbody tr th:only-of-type {\n",
       "        vertical-align: middle;\n",
       "    }\n",
       "\n",
       "    .dataframe tbody tr th {\n",
       "        vertical-align: top;\n",
       "    }\n",
       "\n",
       "    .dataframe thead th {\n",
       "        text-align: right;\n",
       "    }\n",
       "</style>\n",
       "<table border=\"1\" class=\"dataframe\">\n",
       "  <thead>\n",
       "    <tr style=\"text-align: right;\">\n",
       "      <th></th>\n",
       "      <th>price</th>\n",
       "      <th>area</th>\n",
       "      <th>bedrooms</th>\n",
       "      <th>bathrooms</th>\n",
       "      <th>stories</th>\n",
       "      <th>parking</th>\n",
       "    </tr>\n",
       "  </thead>\n",
       "  <tbody>\n",
       "    <tr>\n",
       "      <th>count</th>\n",
       "      <td>545.0</td>\n",
       "      <td>545.0</td>\n",
       "      <td>545.0</td>\n",
       "      <td>545.0</td>\n",
       "      <td>545.0</td>\n",
       "      <td>545.0</td>\n",
       "    </tr>\n",
       "    <tr>\n",
       "      <th>mean</th>\n",
       "      <td>4766729.0</td>\n",
       "      <td>5151.0</td>\n",
       "      <td>3.0</td>\n",
       "      <td>1.0</td>\n",
       "      <td>2.0</td>\n",
       "      <td>1.0</td>\n",
       "    </tr>\n",
       "    <tr>\n",
       "      <th>std</th>\n",
       "      <td>1870440.0</td>\n",
       "      <td>2170.0</td>\n",
       "      <td>1.0</td>\n",
       "      <td>1.0</td>\n",
       "      <td>1.0</td>\n",
       "      <td>1.0</td>\n",
       "    </tr>\n",
       "    <tr>\n",
       "      <th>min</th>\n",
       "      <td>1750000.0</td>\n",
       "      <td>1650.0</td>\n",
       "      <td>1.0</td>\n",
       "      <td>1.0</td>\n",
       "      <td>1.0</td>\n",
       "      <td>0.0</td>\n",
       "    </tr>\n",
       "    <tr>\n",
       "      <th>25%</th>\n",
       "      <td>3430000.0</td>\n",
       "      <td>3600.0</td>\n",
       "      <td>2.0</td>\n",
       "      <td>1.0</td>\n",
       "      <td>1.0</td>\n",
       "      <td>0.0</td>\n",
       "    </tr>\n",
       "    <tr>\n",
       "      <th>50%</th>\n",
       "      <td>4340000.0</td>\n",
       "      <td>4600.0</td>\n",
       "      <td>3.0</td>\n",
       "      <td>1.0</td>\n",
       "      <td>2.0</td>\n",
       "      <td>0.0</td>\n",
       "    </tr>\n",
       "    <tr>\n",
       "      <th>75%</th>\n",
       "      <td>5740000.0</td>\n",
       "      <td>6360.0</td>\n",
       "      <td>3.0</td>\n",
       "      <td>2.0</td>\n",
       "      <td>2.0</td>\n",
       "      <td>1.0</td>\n",
       "    </tr>\n",
       "    <tr>\n",
       "      <th>max</th>\n",
       "      <td>13300000.0</td>\n",
       "      <td>16200.0</td>\n",
       "      <td>6.0</td>\n",
       "      <td>4.0</td>\n",
       "      <td>4.0</td>\n",
       "      <td>3.0</td>\n",
       "    </tr>\n",
       "  </tbody>\n",
       "</table>\n",
       "</div>"
      ],
      "text/plain": [
       "            price     area  bedrooms  bathrooms  stories  parking\n",
       "count       545.0    545.0     545.0      545.0    545.0    545.0\n",
       "mean    4766729.0   5151.0       3.0        1.0      2.0      1.0\n",
       "std     1870440.0   2170.0       1.0        1.0      1.0      1.0\n",
       "min     1750000.0   1650.0       1.0        1.0      1.0      0.0\n",
       "25%     3430000.0   3600.0       2.0        1.0      1.0      0.0\n",
       "50%     4340000.0   4600.0       3.0        1.0      2.0      0.0\n",
       "75%     5740000.0   6360.0       3.0        2.0      2.0      1.0\n",
       "max    13300000.0  16200.0       6.0        4.0      4.0      3.0"
      ]
     },
     "execution_count": 14,
     "metadata": {},
     "output_type": "execute_result"
    }
   ],
   "source": [
    "#Statistical summary of the numeric coulums\n",
    "df.describe().round()"
   ]
  },
  {
   "cell_type": "code",
   "execution_count": 15,
   "id": "df0fce24",
   "metadata": {},
   "outputs": [
    {
     "data": {
      "image/png": "[encoded data removed]",
      "text/plain": [
       "<Figure size 640x480 with 1 Axes>"
      ]
     },
     "metadata": {},
     "output_type": "display_data"
    }
   ],
   "source": [
    "#Finding the distribution of our target variable(price)\n",
    "sns.histplot(df['price'])\n",
    "\n",
    "plt.title('Histogram Distribution of Price')\n",
    "plt.xlabel('Price')\n",
    "plt.ylabel('Frequency')\n",
    "\n",
    "plt.show()"
   ]
  },
  {
   "cell_type": "code",
   "execution_count": 16,
   "id": "a5481a0e",
   "metadata": {},
   "outputs": [
    {
     "data": {
      "text/plain": [
       "1.2122388370279802"
      ]
     },
     "execution_count": 16,
     "metadata": {},
     "output_type": "execute_result"
    }
   ],
   "source": [
    "#finding the skewness of the target variable(price)\n",
    "df['price'].skew()"
   ]
  },
  {
   "cell_type": "code",
   "execution_count": 17,
   "id": "d39f73d5",
   "metadata": {},
   "outputs": [],
   "source": [
    "#Normalising the target variable(price) with the log function\n",
    "log_price = np.log1p(df['price'])"
   ]
  },
  {
   "cell_type": "code",
   "execution_count": 18,
   "id": "cc04a624",
   "metadata": {},
   "outputs": [
    {
     "data": {
      "image/png": "[encoded data removed]",
      "text/plain": [
       "<Figure size 640x480 with 1 Axes>"
      ]
     },
     "metadata": {},
     "output_type": "display_data"
    }
   ],
   "source": [
    "#Finding the distribution of our target variable(price)\n",
    "sns.histplot(log_price)\n",
    "\n",
    "plt.title('Histogram Distribution of the Log Price')\n",
    "plt.xlabel('Price')\n",
    "plt.ylabel('Frequency')\n",
    "\n",
    "plt.show()"
   ]
  },
  {
   "cell_type": "code",
   "execution_count": 19,
   "id": "ac08d1fe",
   "metadata": {},
   "outputs": [
    {
     "data": {
      "text/plain": [
       "0.14086281102108905"
      ]
     },
     "execution_count": 19,
     "metadata": {},
     "output_type": "execute_result"
    }
   ],
   "source": [
    "#finding the skewness of the target variable(price)\n",
    "df1 = log_price.skew()\n",
    "df1"
   ]
  },
  {
   "cell_type": "code",
   "execution_count": null,
   "id": "596274ad",
   "metadata": {},
   "outputs": [],
   "source": [
    "#converting the non-merical columns to numerical values. ,\n",
    "\n",
    "df['main_road'] = df['main_road'].\\\n",
    "map( {'no': 0, 'yes': 1 } ).astype(int)\n",
    "\n",
    "df['guestroom'] = df['guestroom'].\\\n",
    "map( {'no': 0, 'yes': 1 } ).astype(int)\n",
    "\n",
    "df['basement'] = df['basement'].\\\n",
    "map( {'no': 0, 'yes': 1 } ).astype(int)\n",
    "\n",
    "df['hotwater_heating'] = df['hotwater_heating'].\\\n",
    "map( {'no': 0, 'yes': 1 } ).astype(int)\n",
    "\n",
    "df['air_conditioning'] = df['air_conditioning'].\\\n",
    "map( {'no': 0, 'yes': 1 } ).astype(int)\n",
    "\n",
    "df['pref_area'] = df['pref_area'].\\\n",
    "map( {'no': 0, 'yes': 1 } ).astype(int)\n",
    "\n",
    "df['furnishing_status'] = df['furnishing_status'].\\\n",
    "map( {'furnished': 2, 'semi-furnished': 1, 'unfurnished': 0 } ).astype(int)\n"
   ]
  },
  {
   "cell_type": "code",
   "execution_count": 21,
   "id": "33ba5aeb",
   "metadata": {},
   "outputs": [
    {
     "data": {
      "text/html": [
       "<div>\n",
       "<style scoped>\n",
       "    .dataframe tbody tr th:only-of-type {\n",
       "        vertical-align: middle;\n",
       "    }\n",
       "\n",
       "    .dataframe tbody tr th {\n",
       "        vertical-align: top;\n",
       "    }\n",
       "\n",
       "    .dataframe thead th {\n",
       "        text-align: right;\n",
       "    }\n",
       "</style>\n",
       "<table border=\"1\" class=\"dataframe\">\n",
       "  <thead>\n",
       "    <tr style=\"text-align: right;\">\n",
       "      <th></th>\n",
       "      <th>price</th>\n",
       "      <th>area</th>\n",
       "      <th>bedrooms</th>\n",
       "      <th>bathrooms</th>\n",
       "      <th>stories</th>\n",
       "      <th>main_road</th>\n",
       "      <th>guestroom</th>\n",
       "      <th>basement</th>\n",
       "      <th>hotwater_heating</th>\n",
       "      <th>air_conditioning</th>\n",
       "      <th>parking</th>\n",
       "      <th>pref_area</th>\n",
       "      <th>furnishing_status</th>\n",
       "    </tr>\n",
       "  </thead>\n",
       "  <tbody>\n",
       "    <tr>\n",
       "      <th>0</th>\n",
       "      <td>13300000</td>\n",
       "      <td>7420</td>\n",
       "      <td>4</td>\n",
       "      <td>2</td>\n",
       "      <td>3</td>\n",
       "      <td>1</td>\n",
       "      <td>0</td>\n",
       "      <td>0</td>\n",
       "      <td>0</td>\n",
       "      <td>1</td>\n",
       "      <td>2</td>\n",
       "      <td>1</td>\n",
       "      <td>2</td>\n",
       "    </tr>\n",
       "    <tr>\n",
       "      <th>1</th>\n",
       "      <td>12250000</td>\n",
       "      <td>8960</td>\n",
       "      <td>4</td>\n",
       "      <td>4</td>\n",
       "      <td>4</td>\n",
       "      <td>1</td>\n",
       "      <td>0</td>\n",
       "      <td>0</td>\n",
       "      <td>0</td>\n",
       "      <td>1</td>\n",
       "      <td>3</td>\n",
       "      <td>0</td>\n",
       "      <td>2</td>\n",
       "    </tr>\n",
       "    <tr>\n",
       "      <th>2</th>\n",
       "      <td>12250000</td>\n",
       "      <td>9960</td>\n",
       "      <td>3</td>\n",
       "      <td>2</td>\n",
       "      <td>2</td>\n",
       "      <td>1</td>\n",
       "      <td>0</td>\n",
       "      <td>1</td>\n",
       "      <td>0</td>\n",
       "      <td>0</td>\n",
       "      <td>2</td>\n",
       "      <td>1</td>\n",
       "      <td>1</td>\n",
       "    </tr>\n",
       "    <tr>\n",
       "      <th>3</th>\n",
       "      <td>12215000</td>\n",
       "      <td>7500</td>\n",
       "      <td>4</td>\n",
       "      <td>2</td>\n",
       "      <td>2</td>\n",
       "      <td>1</td>\n",
       "      <td>0</td>\n",
       "      <td>1</td>\n",
       "      <td>0</td>\n",
       "      <td>1</td>\n",
       "      <td>3</td>\n",
       "      <td>1</td>\n",
       "      <td>2</td>\n",
       "    </tr>\n",
       "    <tr>\n",
       "      <th>4</th>\n",
       "      <td>11410000</td>\n",
       "      <td>7420</td>\n",
       "      <td>4</td>\n",
       "      <td>1</td>\n",
       "      <td>2</td>\n",
       "      <td>1</td>\n",
       "      <td>1</td>\n",
       "      <td>1</td>\n",
       "      <td>0</td>\n",
       "      <td>1</td>\n",
       "      <td>2</td>\n",
       "      <td>0</td>\n",
       "      <td>2</td>\n",
       "    </tr>\n",
       "  </tbody>\n",
       "</table>\n",
       "</div>"
      ],
      "text/plain": [
       "      price  area  bedrooms  bathrooms  stories  main_road  guestroom  \\\n",
       "0  13300000  7420         4          2        3          1          0   \n",
       "1  12250000  8960         4          4        4          1          0   \n",
       "2  12250000  9960         3          2        2          1          0   \n",
       "3  12215000  7500         4          2        2          1          0   \n",
       "4  11410000  7420         4          1        2          1          1   \n",
       "\n",
       "   basement  hotwater_heating  air_conditioning  parking  pref_area  \\\n",
       "0         0                 0                 1        2          1   \n",
       "1         0                 0                 1        3          0   \n",
       "2         1                 0                 0        2          1   \n",
       "3         1                 0                 1        3          1   \n",
       "4         1                 0                 1        2          0   \n",
       "\n",
       "   furnishing_status  \n",
       "0                  2  \n",
       "1                  2  \n",
       "2                  1  \n",
       "3                  2  \n",
       "4                  2  "
      ]
     },
     "execution_count": 21,
     "metadata": {},
     "output_type": "execute_result"
    }
   ],
   "source": [
    "#print of the first rows of the dataset\n",
    "df.head()"
   ]
  },
  {
   "cell_type": "code",
   "execution_count": 22,
   "id": "4f1b0353",
   "metadata": {},
   "outputs": [
    {
     "data": {
      "text/plain": [
       "price                int64\n",
       "area                 int64\n",
       "bedrooms             int64\n",
       "bathrooms            int64\n",
       "stories              int64\n",
       "main_road            int32\n",
       "guestroom            int32\n",
       "basement             int32\n",
       "hotwater_heating     int32\n",
       "air_conditioning     int32\n",
       "parking              int64\n",
       "pref_area            int32\n",
       "furnishing_status    int32\n",
       "dtype: object"
      ]
     },
     "execution_count": 22,
     "metadata": {},
     "output_type": "execute_result"
    }
   ],
   "source": [
    "# checking data type on all columns\n",
    "df.dtypes"
   ]
  },
  {
   "cell_type": "code",
   "execution_count": 23,
   "id": "4142696c",
   "metadata": {},
   "outputs": [
    {
     "data": {
      "image/png": "[encoded data removed]",
      "text/plain": [
       "<Figure size 1200x800 with 2 Axes>"
      ]
     },
     "metadata": {},
     "output_type": "display_data"
    }
   ],
   "source": [
    "## performing a correlation on all columns\n",
    "\n",
    "corr_matrix = df.corr()\n",
    "corr_matrix\n",
    "\n",
    "# Visualize the correlation matrix using a heatmap\n",
    "plt.figure(figsize=(12, 8))\n",
    "sns.heatmap(corr_matrix, annot=True, cmap='coolwarm', fmt='.2f')\n",
    "plt.title('Correlation Matrix for All Columns')\n",
    "plt.show()"
   ]
  },
  {
   "cell_type": "code",
   "execution_count": 24,
   "id": "8e9565fa",
   "metadata": {},
   "outputs": [
    {
     "data": {
      "application/vnd.plotly.v1+json": {
       "config": {
        "plotlyServerURL": "https://plot.ly"
       },
       "data": [
        {
         "alignmentgroup": "True",
         "hovertemplate": "Feature Variables=%{x}<br>Price=%{y}<extra></extra>",
         "legendgroup": "",
         "marker": {
          "color": "#636efa",
          "pattern": {
           "shape": ""
          }
         },
         "name": "",
         "offsetgroup": "",
         "orientation": "v",
         "showlegend": false,
         "textposition": "auto",
         "texttemplate": "%{y:0.2f}",
         "type": "bar",
         "x": [
          "price",
          "area",
          "bathrooms",
          "air_conditioning",
          "stories",
          "parking",
          "bedrooms",
          "pref_area",
          "furnishing_status",
          "main_road",
          "guestroom",
          "basement",
          "hotwater_heating"
         ],
         "xaxis": "x",
         "y": [
          1,
          0.5359973457780797,
          0.517545339455012,
          0.4529540842560477,
          0.42071236618861724,
          0.38439364863572645,
          0.36649402577386964,
          0.32977704986810746,
          0.30472146153743424,
          0.2968984892639758,
          0.2555172899350002,
          0.18705659793805265,
          0.09307284392139716
         ],
         "yaxis": "y"
        }
       ],
       "layout": {
        "barmode": "relative",
        "legend": {
         "tracegroupgap": 0
        },
        "template": {
         "data": {
          "bar": [
           {
            "error_x": {
             "color": "#2a3f5f"
            },
            "error_y": {
             "color": "#2a3f5f"
            },
            "marker": {
             "line": {
              "color": "#E5ECF6",
              "width": 0.5
             },
             "pattern": {
              "fillmode": "overlay",
              "size": 10,
              "solidity": 0.2
             }
            },
            "type": "bar"
           }
          ],
          "barpolar": [
           {
            "marker": {
             "line": {
              "color": "#E5ECF6",
              "width": 0.5
             },
             "pattern": {
              "fillmode": "overlay",
              "size": 10,
              "solidity": 0.2
             }
            },
            "type": "barpolar"
           }
          ],
          "carpet": [
           {
            "aaxis": {
             "endlinecolor": "#2a3f5f",
             "gridcolor": "white",
             "linecolor": "white",
             "minorgridcolor": "white",
             "startlinecolor": "#2a3f5f"
            },
            "baxis": {
             "endlinecolor": "#2a3f5f",
             "gridcolor": "white",
             "linecolor": "white",
             "minorgridcolor": "white",
             "startlinecolor": "#2a3f5f"
            },
            "type": "carpet"
           }
          ],
          "choropleth": [
           {
            "colorbar": {
             "outlinewidth": 0,
             "ticks": ""
            },
            "type": "choropleth"
           }
          ],
          "contour": [
           {
            "colorbar": {
             "outlinewidth": 0,
             "ticks": ""
            },
            "colorscale": [
             [
              0,
              "#0d0887"
             ],
             [
              0.1111111111111111,
              "#46039f"
             ],
             [
              0.2222222222222222,
              "#7201a8"
             ],
             [
              0.3333333333333333,
              "#9c179e"
             ],
             [
              0.4444444444444444,
              "#bd3786"
             ],
             [
              0.5555555555555556,
              "#d8576b"
             ],
             [
              0.6666666666666666,
              "#ed7953"
             ],
             [
              0.7777777777777778,
              "#fb9f3a"
             ],
             [
              0.8888888888888888,
              "#fdca26"
             ],
             [
              1,
              "#f0f921"
             ]
            ],
            "type": "contour"
           }
          ],
          "contourcarpet": [
           {
            "colorbar": {
             "outlinewidth": 0,
             "ticks": ""
            },
            "type": "contourcarpet"
           }
          ],
          "heatmap": [
           {
            "colorbar": {
             "outlinewidth": 0,
             "ticks": ""
            },
            "colorscale": [
             [
              0,
              "#0d0887"
             ],
             [
              0.1111111111111111,
              "#46039f"
             ],
             [
              0.2222222222222222,
              "#7201a8"
             ],
             [
              0.3333333333333333,
              "#9c179e"
             ],
             [
              0.4444444444444444,
              "#bd3786"
             ],
             [
              0.5555555555555556,
              "#d8576b"
             ],
             [
              0.6666666666666666,
              "#ed7953"
             ],
             [
              0.7777777777777778,
              "#fb9f3a"
             ],
             [
              0.8888888888888888,
              "#fdca26"
             ],
             [
              1,
              "#f0f921"
             ]
            ],
            "type": "heatmap"
           }
          ],
          "heatmapgl": [
           {
            "colorbar": {
             "outlinewidth": 0,
             "ticks": ""
            },
            "colorscale": [
             [
              0,
              "#0d0887"
             ],
             [
              0.1111111111111111,
              "#46039f"
             ],
             [
              0.2222222222222222,
              "#7201a8"
             ],
             [
              0.3333333333333333,
              "#9c179e"
             ],
             [
              0.4444444444444444,
              "#bd3786"
             ],
             [
              0.5555555555555556,
              "#d8576b"
             ],
             [
              0.6666666666666666,
              "#ed7953"
             ],
             [
              0.7777777777777778,
              "#fb9f3a"
             ],
             [
              0.8888888888888888,
              "#fdca26"
             ],
             [
              1,
              "#f0f921"
             ]
            ],
            "type": "heatmapgl"
           }
          ],
          "histogram": [
           {
            "marker": {
             "pattern": {
              "fillmode": "overlay",
              "size": 10,
              "solidity": 0.2
             }
            },
            "type": "histogram"
           }
          ],
          "histogram2d": [
           {
            "colorbar": {
             "outlinewidth": 0,
             "ticks": ""
            },
            "colorscale": [
             [
              0,
              "#0d0887"
             ],
             [
              0.1111111111111111,
              "#46039f"
             ],
             [
              0.2222222222222222,
              "#7201a8"
             ],
             [
              0.3333333333333333,
              "#9c179e"
             ],
             [
              0.4444444444444444,
              "#bd3786"
             ],
             [
              0.5555555555555556,
              "#d8576b"
             ],
             [
              0.6666666666666666,
              "#ed7953"
             ],
             [
              0.7777777777777778,
              "#fb9f3a"
             ],
             [
              0.8888888888888888,
              "#fdca26"
             ],
             [
              1,
              "#f0f921"
             ]
            ],
            "type": "histogram2d"
           }
          ],
          "histogram2dcontour": [
           {
            "colorbar": {
             "outlinewidth": 0,
             "ticks": ""
            },
            "colorscale": [
             [
              0,
              "#0d0887"
             ],
             [
              0.1111111111111111,
              "#46039f"
             ],
             [
              0.2222222222222222,
              "#7201a8"
             ],
             [
              0.3333333333333333,
              "#9c179e"
             ],
             [
              0.4444444444444444,
              "#bd3786"
             ],
             [
              0.5555555555555556,
              "#d8576b"
             ],
             [
              0.6666666666666666,
              "#ed7953"
             ],
             [
              0.7777777777777778,
              "#fb9f3a"
             ],
             [
              0.8888888888888888,
              "#fdca26"
             ],
             [
              1,
              "#f0f921"
             ]
            ],
            "type": "histogram2dcontour"
           }
          ],
          "mesh3d": [
           {
            "colorbar": {
             "outlinewidth": 0,
             "ticks": ""
            },
            "type": "mesh3d"
           }
          ],
          "parcoords": [
           {
            "line": {
             "colorbar": {
              "outlinewidth": 0,
              "ticks": ""
             }
            },
            "type": "parcoords"
           }
          ],
          "pie": [
           {
            "automargin": true,
            "type": "pie"
           }
          ],
          "scatter": [
           {
            "fillpattern": {
             "fillmode": "overlay",
             "size": 10,
             "solidity": 0.2
            },
            "type": "scatter"
           }
          ],
          "scatter3d": [
           {
            "line": {
             "colorbar": {
              "outlinewidth": 0,
              "ticks": ""
             }
            },
            "marker": {
             "colorbar": {
              "outlinewidth": 0,
              "ticks": ""
             }
            },
            "type": "scatter3d"
           }
          ],
          "scattercarpet": [
           {
            "marker": {
             "colorbar": {
              "outlinewidth": 0,
              "ticks": ""
             }
            },
            "type": "scattercarpet"
           }
          ],
          "scattergeo": [
           {
            "marker": {
             "colorbar": {
              "outlinewidth": 0,
              "ticks": ""
             }
            },
            "type": "scattergeo"
           }
          ],
          "scattergl": [
           {
            "marker": {
             "colorbar": {
              "outlinewidth": 0,
              "ticks": ""
             }
            },
            "type": "scattergl"
           }
          ],
          "scattermapbox": [
           {
            "marker": {
             "colorbar": {
              "outlinewidth": 0,
              "ticks": ""
             }
            },
            "type": "scattermapbox"
           }
          ],
          "scatterpolar": [
           {
            "marker": {
             "colorbar": {
              "outlinewidth": 0,
              "ticks": ""
             }
            },
            "type": "scatterpolar"
           }
          ],
          "scatterpolargl": [
           {
            "marker": {
             "colorbar": {
              "outlinewidth": 0,
              "ticks": ""
             }
            },
            "type": "scatterpolargl"
           }
          ],
          "scatterternary": [
           {
            "marker": {
             "colorbar": {
              "outlinewidth": 0,
              "ticks": ""
             }
            },
            "type": "scatterternary"
           }
          ],
          "surface": [
           {
            "colorbar": {
             "outlinewidth": 0,
             "ticks": ""
            },
            "colorscale": [
             [
              0,
              "#0d0887"
             ],
             [
              0.1111111111111111,
              "#46039f"
             ],
             [
              0.2222222222222222,
              "#7201a8"
             ],
             [
              0.3333333333333333,
              "#9c179e"
             ],
             [
              0.4444444444444444,
              "#bd3786"
             ],
             [
              0.5555555555555556,
              "#d8576b"
             ],
             [
              0.6666666666666666,
              "#ed7953"
             ],
             [
              0.7777777777777778,
              "#fb9f3a"
             ],
             [
              0.8888888888888888,
              "#fdca26"
             ],
             [
              1,
              "#f0f921"
             ]
            ],
            "type": "surface"
           }
          ],
          "table": [
           {
            "cells": {
             "fill": {
              "color": "#EBF0F8"
             },
             "line": {
              "color": "white"
             }
            },
            "header": {
             "fill": {
              "color": "#C8D4E3"
             },
             "line": {
              "color": "white"
             }
            },
            "type": "table"
           }
          ]
         },
         "layout": {
          "annotationdefaults": {
           "arrowcolor": "#2a3f5f",
           "arrowhead": 0,
           "arrowwidth": 1
          },
          "autotypenumbers": "strict",
          "coloraxis": {
           "colorbar": {
            "outlinewidth": 0,
            "ticks": ""
           }
          },
          "colorscale": {
           "diverging": [
            [
             0,
             "#8e0152"
            ],
            [
             0.1,
             "#c51b7d"
            ],
            [
             0.2,
             "#de77ae"
            ],
            [
             0.3,
             "#f1b6da"
            ],
            [
             0.4,
             "#fde0ef"
            ],
            [
             0.5,
             "#f7f7f7"
            ],
            [
             0.6,
             "#e6f5d0"
            ],
            [
             0.7,
             "#b8e186"
            ],
            [
             0.8,
             "#7fbc41"
            ],
            [
             0.9,
             "#4d9221"
            ],
            [
             1,
             "#276419"
            ]
           ],
           "sequential": [
            [
             0,
             "#0d0887"
            ],
            [
             0.1111111111111111,
             "#46039f"
            ],
            [
             0.2222222222222222,
             "#7201a8"
            ],
            [
             0.3333333333333333,
             "#9c179e"
            ],
            [
             0.4444444444444444,
             "#bd3786"
            ],
            [
             0.5555555555555556,
             "#d8576b"
            ],
            [
             0.6666666666666666,
             "#ed7953"
            ],
            [
             0.7777777777777778,
             "#fb9f3a"
            ],
            [
             0.8888888888888888,
             "#fdca26"
            ],
            [
             1,
             "#f0f921"
            ]
           ],
           "sequentialminus": [
            [
             0,
             "#0d0887"
            ],
            [
             0.1111111111111111,
             "#46039f"
            ],
            [
             0.2222222222222222,
             "#7201a8"
            ],
            [
             0.3333333333333333,
             "#9c179e"
            ],
            [
             0.4444444444444444,
             "#bd3786"
            ],
            [
             0.5555555555555556,
             "#d8576b"
            ],
            [
             0.6666666666666666,
             "#ed7953"
            ],
            [
             0.7777777777777778,
             "#fb9f3a"
            ],
            [
             0.8888888888888888,
             "#fdca26"
            ],
            [
             1,
             "#f0f921"
            ]
           ]
          },
          "colorway": [
           "#636efa",
           "#EF553B",
           "#00cc96",
           "#ab63fa",
           "#FFA15A",
           "#19d3f3",
           "#FF6692",
           "#B6E880",
           "#FF97FF",
           "#FECB52"
          ],
          "font": {
           "color": "#2a3f5f"
          },
          "geo": {
           "bgcolor": "white",
           "lakecolor": "white",
           "landcolor": "#E5ECF6",
           "showlakes": true,
           "showland": true,
           "subunitcolor": "white"
          },
          "hoverlabel": {
           "align": "left"
          },
          "hovermode": "closest",
          "mapbox": {
           "style": "light"
          },
          "paper_bgcolor": "white",
          "plot_bgcolor": "#E5ECF6",
          "polar": {
           "angularaxis": {
            "gridcolor": "white",
            "linecolor": "white",
            "ticks": ""
           },
           "bgcolor": "#E5ECF6",
           "radialaxis": {
            "gridcolor": "white",
            "linecolor": "white",
            "ticks": ""
           }
          },
          "scene": {
           "xaxis": {
            "backgroundcolor": "#E5ECF6",
            "gridcolor": "white",
            "gridwidth": 2,
            "linecolor": "white",
            "showbackground": true,
            "ticks": "",
            "zerolinecolor": "white"
           },
           "yaxis": {
            "backgroundcolor": "#E5ECF6",
            "gridcolor": "white",
            "gridwidth": 2,
            "linecolor": "white",
            "showbackground": true,
            "ticks": "",
            "zerolinecolor": "white"
           },
           "zaxis": {
            "backgroundcolor": "#E5ECF6",
            "gridcolor": "white",
            "gridwidth": 2,
            "linecolor": "white",
            "showbackground": true,
            "ticks": "",
            "zerolinecolor": "white"
           }
          },
          "shapedefaults": {
           "line": {
            "color": "#2a3f5f"
           }
          },
          "ternary": {
           "aaxis": {
            "gridcolor": "white",
            "linecolor": "white",
            "ticks": ""
           },
           "baxis": {
            "gridcolor": "white",
            "linecolor": "white",
            "ticks": ""
           },
           "bgcolor": "#E5ECF6",
           "caxis": {
            "gridcolor": "white",
            "linecolor": "white",
            "ticks": ""
           }
          },
          "title": {
           "x": 0.05
          },
          "xaxis": {
           "automargin": true,
           "gridcolor": "white",
           "linecolor": "white",
           "ticks": "",
           "title": {
            "standoff": 15
           },
           "zerolinecolor": "white",
           "zerolinewidth": 2
          },
          "yaxis": {
           "automargin": true,
           "gridcolor": "white",
           "linecolor": "white",
           "ticks": "",
           "title": {
            "standoff": 15
           },
           "zerolinecolor": "white",
           "zerolinewidth": 2
          }
         }
        },
        "title": {
         "text": "The Correlation betweeen Target variable(Price) and the Feature variables"
        },
        "xaxis": {
         "anchor": "y",
         "domain": [
          0,
          1
         ],
         "title": {
          "text": "Feature Variables"
         }
        },
        "yaxis": {
         "anchor": "x",
         "domain": [
          0,
          1
         ],
         "title": {
          "text": "Price"
         }
        }
       }
      }
     },
     "metadata": {},
     "output_type": "display_data"
    }
   ],
   "source": [
    "#correlation matrix of the target variable(price) and the features\n",
    "corr_matrix['price']\n",
    "\n",
    "price_corr = corr_matrix['price'].reset_index()\n",
    "price_corr = price_corr.sort_values(by='price', ascending = False)\n",
    "\n",
    "fig =px.bar(price_corr, x='index', y='price',\n",
    "            title = 'The Correlation betweeen Target variable(Price) and the Feature variables',\n",
    "            labels = {'price':'Price', 'index':'Feature Variables'},\n",
    "            text_auto = '0.2f')\n",
    "fig.show()\n",
    "\n",
    "#This shows that among the features for house price prediction, 'area' has the highest influence on the price of a house, followed by the number of bathrooms."
   ]
  },
  {
   "cell_type": "code",
   "execution_count": 25,
   "id": "e10b7c72",
   "metadata": {},
   "outputs": [
    {
     "data": {
      "application/vnd.plotly.v1+json": {
       "config": {
        "plotlyServerURL": "https://plot.ly"
       },
       "data": [
        {
         "marker": {
          "color": "blue",
          "opacity": 0.5,
          "size": 8
         },
         "mode": "markers",
         "name": "Price vs. Area",
         "type": "scatter",
         "x": [
          7420,
          8960,
          9960,
          7500,
          7420,
          7500,
          8580,
          16200,
          8100,
          5750,
          13200,
          6000,
          6550,
          3500,
          7800,
          6000,
          6600,
          8500,
          4600,
          6420,
          4320,
          7155,
          8050,
          4560,
          8800,
          6540,
          6000,
          8875,
          7950,
          5500,
          7475,
          7000,
          4880,
          5960,
          6840,
          7000,
          7482,
          9000,
          6000,
          6000,
          6550,
          6360,
          6480,
          6000,
          6000,
          6000,
          6000,
          6600,
          4300,
          7440,
          7440,
          6325,
          6000,
          5150,
          6000,
          6000,
          11440,
          9000,
          7680,
          6000,
          6000,
          8880,
          6240,
          6360,
          11175,
          8880,
          13200,
          7700,
          6000,
          12090,
          4000,
          6000,
          5020,
          6600,
          4040,
          4260,
          6420,
          6500,
          5700,
          6000,
          6000,
          4000,
          10500,
          6000,
          3760,
          8250,
          6670,
          3960,
          7410,
          8580,
          5000,
          6750,
          4800,
          7200,
          6000,
          4100,
          9000,
          6400,
          6600,
          6000,
          6600,
          5500,
          5500,
          6350,
          5500,
          4500,
          5450,
          6420,
          3240,
          6615,
          6600,
          8372,
          4300,
          9620,
          6800,
          8000,
          6900,
          3700,
          6420,
          7020,
          6540,
          7231,
          6254,
          7320,
          6525,
          15600,
          7160,
          6500,
          5500,
          11460,
          4800,
          5828,
          5200,
          4800,
          7000,
          6000,
          5400,
          4640,
          5000,
          6360,
          5800,
          6660,
          10500,
          4800,
          4700,
          5000,
          10500,
          5500,
          6360,
          6600,
          5136,
          4400,
          5400,
          3300,
          3650,
          6100,
          6900,
          2817,
          7980,
          3150,
          6210,
          6100,
          6600,
          6825,
          6710,
          6450,
          7800,
          4600,
          4260,
          6540,
          5500,
          10269,
          8400,
          5300,
          3800,
          9800,
          8520,
          6050,
          7085,
          3180,
          4500,
          7200,
          3410,
          7980,
          3000,
          3000,
          11410,
          6100,
          5720,
          3540,
          7600,
          10700,
          6600,
          4800,
          8150,
          4410,
          7686,
          2800,
          5948,
          4200,
          4520,
          4095,
          4120,
          5400,
          4770,
          6300,
          5800,
          3000,
          2970,
          6720,
          4646,
          12900,
          3420,
          4995,
          4350,
          4160,
          6040,
          6862,
          4815,
          7000,
          8100,
          3420,
          9166,
          6321,
          10240,
          6440,
          5170,
          6000,
          3630,
          9667,
          5400,
          4320,
          3745,
          4160,
          3880,
          5680,
          2870,
          5010,
          4510,
          4000,
          3840,
          3760,
          3640,
          2550,
          5320,
          5360,
          3520,
          8400,
          4100,
          4990,
          3510,
          3450,
          9860,
          3520,
          4510,
          5885,
          4000,
          8250,
          4040,
          6360,
          3162,
          3510,
          3750,
          3968,
          4900,
          2880,
          4880,
          4920,
          4950,
          3900,
          4500,
          1905,
          4075,
          3500,
          6450,
          4032,
          4400,
          10360,
          3400,
          6360,
          6360,
          4500,
          2175,
          4360,
          7770,
          6650,
          2787,
          5500,
          5040,
          5850,
          2610,
          2953,
          2747,
          4410,
          4000,
          2325,
          4600,
          3640,
          5800,
          7000,
          4079,
          3520,
          2145,
          4500,
          8250,
          3450,
          4840,
          4080,
          4046,
          4632,
          5985,
          6060,
          3600,
          3680,
          4040,
          5600,
          5900,
          4992,
          4340,
          3000,
          4320,
          3630,
          3460,
          5400,
          4500,
          3460,
          4100,
          6480,
          4500,
          3960,
          4050,
          7260,
          5500,
          3000,
          3290,
          3816,
          8080,
          2145,
          3780,
          3180,
          5300,
          3180,
          7152,
          4080,
          3850,
          2015,
          2176,
          3350,
          3150,
          4820,
          3420,
          3600,
          5830,
          2856,
          8400,
          8250,
          2520,
          6930,
          3480,
          3600,
          4040,
          6020,
          4050,
          3584,
          3120,
          5450,
          3630,
          3630,
          5640,
          3600,
          4280,
          3570,
          3180,
          3000,
          3520,
          5960,
          4130,
          2850,
          2275,
          3520,
          4500,
          4000,
          3150,
          4500,
          4500,
          3640,
          3850,
          4240,
          3650,
          4600,
          2135,
          3036,
          3990,
          7424,
          3480,
          3600,
          3640,
          5900,
          3120,
          7350,
          3512,
          9500,
          5880,
          12944,
          4900,
          3060,
          5320,
          2145,
          4000,
          3185,
          3850,
          2145,
          2610,
          1950,
          4040,
          4785,
          3450,
          3640,
          3500,
          4960,
          4120,
          4750,
          3720,
          3750,
          3100,
          3185,
          2700,
          2145,
          4040,
          4775,
          2500,
          3180,
          6060,
          3480,
          3792,
          4040,
          2145,
          5880,
          4500,
          3930,
          3640,
          4370,
          2684,
          4320,
          3120,
          3450,
          3986,
          3500,
          4095,
          1650,
          3450,
          6750,
          9000,
          3069,
          4500,
          5495,
          2398,
          3000,
          3850,
          3500,
          8100,
          4960,
          2160,
          3090,
          4500,
          3800,
          3090,
          3240,
          2835,
          4600,
          5076,
          3750,
          3630,
          8050,
          4352,
          3000,
          5850,
          4960,
          3600,
          3660,
          3480,
          2700,
          3150,
          6615,
          3040,
          3630,
          6000,
          5400,
          5200,
          3300,
          4350,
          2640,
          2650,
          3960,
          6800,
          4000,
          4000,
          3934,
          2000,
          3630,
          2800,
          2430,
          3480,
          4000,
          3185,
          4000,
          2910,
          3600,
          4400,
          3600,
          2880,
          3180,
          3000,
          4400,
          3000,
          3210,
          3240,
          3000,
          3500,
          4840,
          7700,
          3635,
          2475,
          2787,
          3264,
          3640,
          3180,
          1836,
          3970,
          3970,
          1950,
          5300,
          3000,
          2400,
          3000,
          3360,
          3420,
          1700,
          3649,
          2990,
          3000,
          2400,
          3620,
          2910,
          3850
         ],
         "y": [
          13300000,
          12250000,
          12250000,
          12215000,
          11410000,
          10850000,
          10150000,
          10150000,
          9870000,
          9800000,
          9800000,
          9681000,
          9310000,
          9240000,
          9240000,
          9100000,
          9100000,
          8960000,
          8890000,
          8855000,
          8750000,
          8680000,
          8645000,
          8645000,
          8575000,
          8540000,
          8463000,
          8400000,
          8400000,
          8400000,
          8400000,
          8400000,
          8295000,
          8190000,
          8120000,
          8080940,
          8043000,
          7980000,
          7962500,
          7910000,
          7875000,
          7840000,
          7700000,
          7700000,
          7560000,
          7560000,
          7525000,
          7490000,
          7455000,
          7420000,
          7420000,
          7420000,
          7350000,
          7350000,
          7350000,
          7350000,
          7343000,
          7245000,
          7210000,
          7210000,
          7140000,
          7070000,
          7070000,
          7035000,
          7000000,
          6930000,
          6930000,
          6895000,
          6860000,
          6790000,
          6790000,
          6755000,
          6720000,
          6685000,
          6650000,
          6650000,
          6650000,
          6650000,
          6650000,
          6650000,
          6629000,
          6615000,
          6615000,
          6580000,
          6510000,
          6510000,
          6510000,
          6475000,
          6475000,
          6440000,
          6440000,
          6419000,
          6405000,
          6300000,
          6300000,
          6300000,
          6300000,
          6300000,
          6293000,
          6265000,
          6230000,
          6230000,
          6195000,
          6195000,
          6195000,
          6160000,
          6160000,
          6125000,
          6107500,
          6090000,
          6090000,
          6090000,
          6083000,
          6083000,
          6020000,
          6020000,
          6020000,
          5950000,
          5950000,
          5950000,
          5950000,
          5950000,
          5950000,
          5950000,
          5950000,
          5943000,
          5880000,
          5880000,
          5873000,
          5873000,
          5866000,
          5810000,
          5810000,
          5810000,
          5803000,
          5775000,
          5740000,
          5740000,
          5740000,
          5740000,
          5740000,
          5652500,
          5600000,
          5600000,
          5600000,
          5600000,
          5600000,
          5600000,
          5600000,
          5600000,
          5600000,
          5565000,
          5565000,
          5530000,
          5530000,
          5530000,
          5523000,
          5495000,
          5495000,
          5460000,
          5460000,
          5460000,
          5460000,
          5425000,
          5390000,
          5383000,
          5320000,
          5285000,
          5250000,
          5250000,
          5250000,
          5250000,
          5250000,
          5250000,
          5250000,
          5250000,
          5250000,
          5243000,
          5229000,
          5215000,
          5215000,
          5215000,
          5145000,
          5145000,
          5110000,
          5110000,
          5110000,
          5110000,
          5075000,
          5040000,
          5040000,
          5040000,
          5040000,
          5033000,
          5005000,
          4970000,
          4970000,
          4956000,
          4935000,
          4907000,
          4900000,
          4900000,
          4900000,
          4900000,
          4900000,
          4900000,
          4900000,
          4900000,
          4900000,
          4900000,
          4900000,
          4900000,
          4893000,
          4893000,
          4865000,
          4830000,
          4830000,
          4830000,
          4830000,
          4795000,
          4795000,
          4767000,
          4760000,
          4760000,
          4760000,
          4753000,
          4690000,
          4690000,
          4690000,
          4690000,
          4690000,
          4690000,
          4655000,
          4620000,
          4620000,
          4620000,
          4620000,
          4620000,
          4613000,
          4585000,
          4585000,
          4550000,
          4550000,
          4550000,
          4550000,
          4550000,
          4550000,
          4550000,
          4543000,
          4543000,
          4515000,
          4515000,
          4515000,
          4515000,
          4480000,
          4480000,
          4480000,
          4480000,
          4480000,
          4473000,
          4473000,
          4473000,
          4445000,
          4410000,
          4410000,
          4403000,
          4403000,
          4403000,
          4382000,
          4375000,
          4340000,
          4340000,
          4340000,
          4340000,
          4340000,
          4319000,
          4305000,
          4305000,
          4277000,
          4270000,
          4270000,
          4270000,
          4270000,
          4270000,
          4270000,
          4235000,
          4235000,
          4200000,
          4200000,
          4200000,
          4200000,
          4200000,
          4200000,
          4200000,
          4200000,
          4200000,
          4200000,
          4200000,
          4200000,
          4200000,
          4200000,
          4200000,
          4200000,
          4200000,
          4193000,
          4193000,
          4165000,
          4165000,
          4165000,
          4130000,
          4130000,
          4123000,
          4098500,
          4095000,
          4095000,
          4095000,
          4060000,
          4060000,
          4060000,
          4060000,
          4060000,
          4025000,
          4025000,
          4025000,
          4007500,
          4007500,
          3990000,
          3990000,
          3990000,
          3990000,
          3990000,
          3920000,
          3920000,
          3920000,
          3920000,
          3920000,
          3920000,
          3920000,
          3885000,
          3885000,
          3850000,
          3850000,
          3850000,
          3850000,
          3850000,
          3850000,
          3850000,
          3836000,
          3815000,
          3780000,
          3780000,
          3780000,
          3780000,
          3780000,
          3780000,
          3773000,
          3773000,
          3773000,
          3745000,
          3710000,
          3710000,
          3710000,
          3710000,
          3710000,
          3703000,
          3703000,
          3675000,
          3675000,
          3675000,
          3675000,
          3640000,
          3640000,
          3640000,
          3640000,
          3640000,
          3640000,
          3640000,
          3640000,
          3640000,
          3633000,
          3605000,
          3605000,
          3570000,
          3570000,
          3570000,
          3570000,
          3535000,
          3500000,
          3500000,
          3500000,
          3500000,
          3500000,
          3500000,
          3500000,
          3500000,
          3500000,
          3500000,
          3500000,
          3500000,
          3500000,
          3500000,
          3500000,
          3500000,
          3500000,
          3493000,
          3465000,
          3465000,
          3465000,
          3430000,
          3430000,
          3430000,
          3430000,
          3430000,
          3430000,
          3423000,
          3395000,
          3395000,
          3395000,
          3360000,
          3360000,
          3360000,
          3360000,
          3360000,
          3360000,
          3360000,
          3360000,
          3353000,
          3332000,
          3325000,
          3325000,
          3290000,
          3290000,
          3290000,
          3290000,
          3290000,
          3290000,
          3290000,
          3290000,
          3255000,
          3255000,
          3234000,
          3220000,
          3220000,
          3220000,
          3220000,
          3150000,
          3150000,
          3150000,
          3150000,
          3150000,
          3150000,
          3150000,
          3150000,
          3150000,
          3143000,
          3129000,
          3118850,
          3115000,
          3115000,
          3115000,
          3087000,
          3080000,
          3080000,
          3080000,
          3080000,
          3045000,
          3010000,
          3010000,
          3010000,
          3010000,
          3010000,
          3010000,
          3010000,
          3003000,
          2975000,
          2961000,
          2940000,
          2940000,
          2940000,
          2940000,
          2940000,
          2940000,
          2940000,
          2940000,
          2870000,
          2870000,
          2870000,
          2870000,
          2852500,
          2835000,
          2835000,
          2835000,
          2800000,
          2800000,
          2730000,
          2730000,
          2695000,
          2660000,
          2660000,
          2660000,
          2660000,
          2660000,
          2660000,
          2660000,
          2653000,
          2653000,
          2604000,
          2590000,
          2590000,
          2590000,
          2520000,
          2520000,
          2520000,
          2485000,
          2485000,
          2450000,
          2450000,
          2450000,
          2450000,
          2450000,
          2450000,
          2408000,
          2380000,
          2380000,
          2380000,
          2345000,
          2310000,
          2275000,
          2275000,
          2275000,
          2240000,
          2233000,
          2135000,
          2100000,
          2100000,
          2100000,
          1960000,
          1890000,
          1890000,
          1855000,
          1820000,
          1767150,
          1750000,
          1750000,
          1750000
         ]
        },
        {
         "line": {
          "color": "red",
          "width": 3
         },
         "mode": "lines",
         "name": "Trendline",
         "type": "scatter",
         "x": [
          1650,
          1796.969696969697,
          1943.939393939394,
          2090.909090909091,
          2237.878787878788,
          2384.848484848485,
          2531.818181818182,
          2678.787878787879,
          2825.757575757576,
          2972.727272727273,
          3119.69696969697,
          3266.666666666667,
          3413.6363636363635,
          3560.6060606060605,
          3707.5757575757575,
          3854.5454545454545,
          4001.5151515151515,
          4148.484848484848,
          4295.454545454546,
          4442.424242424242,
          4589.39393939394,
          4736.363636363636,
          4883.333333333334,
          5030.30303030303,
          5177.272727272727,
          5324.242424242424,
          5471.212121212121,
          5618.181818181818,
          5765.151515151515,
          5912.121212121212,
          6059.090909090909,
          6206.060606060606,
          6353.030303030303,
          6500,
          6646.969696969697,
          6793.939393939394,
          6940.909090909091,
          7087.878787878788,
          7234.848484848485,
          7381.818181818182,
          7528.787878787879,
          7675.757575757576,
          7822.727272727273,
          7969.69696969697,
          8116.666666666667,
          8263.636363636364,
          8410.60606060606,
          8557.575757575758,
          8704.545454545454,
          8851.515151515152,
          8998.484848484848,
          9145.454545454544,
          9292.424242424242,
          9439.39393939394,
          9586.363636363636,
          9733.333333333332,
          9880.30303030303,
          10027.272727272728,
          10174.242424242424,
          10321.212121212122,
          10468.181818181818,
          10615.151515151516,
          10762.121212121212,
          10909.09090909091,
          11056.060606060606,
          11203.030303030302,
          11350,
          11496.969696969696,
          11643.939393939394,
          11790.90909090909,
          11937.878787878788,
          12084.848484848484,
          12231.818181818182,
          12378.787878787878,
          12525.757575757576,
          12672.727272727272,
          12819.69696969697,
          12966.666666666666,
          13113.636363636364,
          13260.60606060606,
          13407.575757575758,
          13554.545454545454,
          13701.515151515152,
          13848.484848484848,
          13995.454545454546,
          14142.424242424242,
          14289.39393939394,
          14436.363636363636,
          14583.333333333334,
          14730.30303030303,
          14877.272727272728,
          15024.242424242424,
          15171.212121212122,
          15318.181818181818,
          15465.151515151516,
          15612.121212121212,
          15759.090909090908,
          15906.060606060606,
          16053.030303030302,
          16200
         ],
         "y": [
          3149567.0579465227,
          3217463.3681654017,
          3285359.6783842808,
          3353255.9886031593,
          3421152.298822038,
          3489048.609040917,
          3556944.919259796,
          3624841.2294786745,
          3692737.539697553,
          3760633.849916432,
          3828530.160135311,
          3896426.4703541896,
          3964322.780573068,
          4032219.090791947,
          4100115.4010108258,
          4168011.7112297043,
          4235908.021448583,
          4303804.331667462,
          4371700.64188634,
          4439596.9521052195,
          4507493.2623240985,
          4575389.572542977,
          4643285.882761857,
          4711182.192980735,
          4779078.503199613,
          4846974.813418493,
          4914871.123637371,
          4982767.43385625,
          5050663.744075129,
          5118560.054294007,
          5186456.364512886,
          5254352.674731765,
          5322248.984950643,
          5390145.295169523,
          5458041.605388401,
          5525937.91560728,
          5593834.225826159,
          5661730.536045037,
          5729626.846263916,
          5797523.156482795,
          5865419.466701673,
          5933315.776920553,
          6001212.087139431,
          6069108.39735831,
          6137004.707577189,
          6204901.0177960675,
          6272797.328014946,
          6340693.638233826,
          6408589.948452704,
          6476486.258671583,
          6544382.568890462,
          6612278.87910934,
          6680175.189328219,
          6748071.499547098,
          6815967.809765976,
          6883864.119984855,
          6951760.430203734,
          7019656.740422613,
          7087553.050641491,
          7155449.360860371,
          7223345.671079249,
          7291241.981298128,
          7359138.291517006,
          7427034.601735886,
          7494930.911954764,
          7562827.222173642,
          7630723.532392521,
          7698619.8426114,
          7766516.152830279,
          7834412.4630491575,
          7902308.773268037,
          7970205.083486916,
          8038101.393705795,
          8105997.703924673,
          8173894.014143552,
          8241790.324362431,
          8309686.63458131,
          8377582.944800188,
          8445479.255019067,
          8513375.565237947,
          8581271.875456825,
          8649168.185675703,
          8717064.495894581,
          8784960.806113461,
          8852857.116332341,
          8920753.42655122,
          8988649.736770097,
          9056546.046988975,
          9124442.357207855,
          9192338.667426733,
          9260234.977645613,
          9328131.287864491,
          9396027.59808337,
          9463923.908302248,
          9531820.218521127,
          9599716.528740007,
          9667612.838958886,
          9735509.149177764,
          9803405.459396642,
          9871301.769615522
         ]
        }
       ],
       "layout": {
        "template": {
         "data": {
          "bar": [
           {
            "error_x": {
             "color": "#2a3f5f"
            },
            "error_y": {
             "color": "#2a3f5f"
            },
            "marker": {
             "line": {
              "color": "#E5ECF6",
              "width": 0.5
             },
             "pattern": {
              "fillmode": "overlay",
              "size": 10,
              "solidity": 0.2
             }
            },
            "type": "bar"
           }
          ],
          "barpolar": [
           {
            "marker": {
             "line": {
              "color": "#E5ECF6",
              "width": 0.5
             },
             "pattern": {
              "fillmode": "overlay",
              "size": 10,
              "solidity": 0.2
             }
            },
            "type": "barpolar"
           }
          ],
          "carpet": [
           {
            "aaxis": {
             "endlinecolor": "#2a3f5f",
             "gridcolor": "white",
             "linecolor": "white",
             "minorgridcolor": "white",
             "startlinecolor": "#2a3f5f"
            },
            "baxis": {
             "endlinecolor": "#2a3f5f",
             "gridcolor": "white",
             "linecolor": "white",
             "minorgridcolor": "white",
             "startlinecolor": "#2a3f5f"
            },
            "type": "carpet"
           }
          ],
          "choropleth": [
           {
            "colorbar": {
             "outlinewidth": 0,
             "ticks": ""
            },
            "type": "choropleth"
           }
          ],
          "contour": [
           {
            "colorbar": {
             "outlinewidth": 0,
             "ticks": ""
            },
            "colorscale": [
             [
              0,
              "#0d0887"
             ],
             [
              0.1111111111111111,
              "#46039f"
             ],
             [
              0.2222222222222222,
              "#7201a8"
             ],
             [
              0.3333333333333333,
              "#9c179e"
             ],
             [
              0.4444444444444444,
              "#bd3786"
             ],
             [
              0.5555555555555556,
              "#d8576b"
             ],
             [
              0.6666666666666666,
              "#ed7953"
             ],
             [
              0.7777777777777778,
              "#fb9f3a"
             ],
             [
              0.8888888888888888,
              "#fdca26"
             ],
             [
              1,
              "#f0f921"
             ]
            ],
            "type": "contour"
           }
          ],
          "contourcarpet": [
           {
            "colorbar": {
             "outlinewidth": 0,
             "ticks": ""
            },
            "type": "contourcarpet"
           }
          ],
          "heatmap": [
           {
            "colorbar": {
             "outlinewidth": 0,
             "ticks": ""
            },
            "colorscale": [
             [
              0,
              "#0d0887"
             ],
             [
              0.1111111111111111,
              "#46039f"
             ],
             [
              0.2222222222222222,
              "#7201a8"
             ],
             [
              0.3333333333333333,
              "#9c179e"
             ],
             [
              0.4444444444444444,
              "#bd3786"
             ],
             [
              0.5555555555555556,
              "#d8576b"
             ],
             [
              0.6666666666666666,
              "#ed7953"
             ],
             [
              0.7777777777777778,
              "#fb9f3a"
             ],
             [
              0.8888888888888888,
              "#fdca26"
             ],
             [
              1,
              "#f0f921"
             ]
            ],
            "type": "heatmap"
           }
          ],
          "heatmapgl": [
           {
            "colorbar": {
             "outlinewidth": 0,
             "ticks": ""
            },
            "colorscale": [
             [
              0,
              "#0d0887"
             ],
             [
              0.1111111111111111,
              "#46039f"
             ],
             [
              0.2222222222222222,
              "#7201a8"
             ],
             [
              0.3333333333333333,
              "#9c179e"
             ],
             [
              0.4444444444444444,
              "#bd3786"
             ],
             [
              0.5555555555555556,
              "#d8576b"
             ],
             [
              0.6666666666666666,
              "#ed7953"
             ],
             [
              0.7777777777777778,
              "#fb9f3a"
             ],
             [
              0.8888888888888888,
              "#fdca26"
             ],
             [
              1,
              "#f0f921"
             ]
            ],
            "type": "heatmapgl"
           }
          ],
          "histogram": [
           {
            "marker": {
             "pattern": {
              "fillmode": "overlay",
              "size": 10,
              "solidity": 0.2
             }
            },
            "type": "histogram"
           }
          ],
          "histogram2d": [
           {
            "colorbar": {
             "outlinewidth": 0,
             "ticks": ""
            },
            "colorscale": [
             [
              0,
              "#0d0887"
             ],
             [
              0.1111111111111111,
              "#46039f"
             ],
             [
              0.2222222222222222,
              "#7201a8"
             ],
             [
              0.3333333333333333,
              "#9c179e"
             ],
             [
              0.4444444444444444,
              "#bd3786"
             ],
             [
              0.5555555555555556,
              "#d8576b"
             ],
             [
              0.6666666666666666,
              "#ed7953"
             ],
             [
              0.7777777777777778,
              "#fb9f3a"
             ],
             [
              0.8888888888888888,
              "#fdca26"
             ],
             [
              1,
              "#f0f921"
             ]
            ],
            "type": "histogram2d"
           }
          ],
          "histogram2dcontour": [
           {
            "colorbar": {
             "outlinewidth": 0,
             "ticks": ""
            },
            "colorscale": [
             [
              0,
              "#0d0887"
             ],
             [
              0.1111111111111111,
              "#46039f"
             ],
             [
              0.2222222222222222,
              "#7201a8"
             ],
             [
              0.3333333333333333,
              "#9c179e"
             ],
             [
              0.4444444444444444,
              "#bd3786"
             ],
             [
              0.5555555555555556,
              "#d8576b"
             ],
             [
              0.6666666666666666,
              "#ed7953"
             ],
             [
              0.7777777777777778,
              "#fb9f3a"
             ],
             [
              0.8888888888888888,
              "#fdca26"
             ],
             [
              1,
              "#f0f921"
             ]
            ],
            "type": "histogram2dcontour"
           }
          ],
          "mesh3d": [
           {
            "colorbar": {
             "outlinewidth": 0,
             "ticks": ""
            },
            "type": "mesh3d"
           }
          ],
          "parcoords": [
           {
            "line": {
             "colorbar": {
              "outlinewidth": 0,
              "ticks": ""
             }
            },
            "type": "parcoords"
           }
          ],
          "pie": [
           {
            "automargin": true,
            "type": "pie"
           }
          ],
          "scatter": [
           {
            "fillpattern": {
             "fillmode": "overlay",
             "size": 10,
             "solidity": 0.2
            },
            "type": "scatter"
           }
          ],
          "scatter3d": [
           {
            "line": {
             "colorbar": {
              "outlinewidth": 0,
              "ticks": ""
             }
            },
            "marker": {
             "colorbar": {
              "outlinewidth": 0,
              "ticks": ""
             }
            },
            "type": "scatter3d"
           }
          ],
          "scattercarpet": [
           {
            "marker": {
             "colorbar": {
              "outlinewidth": 0,
              "ticks": ""
             }
            },
            "type": "scattercarpet"
           }
          ],
          "scattergeo": [
           {
            "marker": {
             "colorbar": {
              "outlinewidth": 0,
              "ticks": ""
             }
            },
            "type": "scattergeo"
           }
          ],
          "scattergl": [
           {
            "marker": {
             "colorbar": {
              "outlinewidth": 0,
              "ticks": ""
             }
            },
            "type": "scattergl"
           }
          ],
          "scattermapbox": [
           {
            "marker": {
             "colorbar": {
              "outlinewidth": 0,
              "ticks": ""
             }
            },
            "type": "scattermapbox"
           }
          ],
          "scatterpolar": [
           {
            "marker": {
             "colorbar": {
              "outlinewidth": 0,
              "ticks": ""
             }
            },
            "type": "scatterpolar"
           }
          ],
          "scatterpolargl": [
           {
            "marker": {
             "colorbar": {
              "outlinewidth": 0,
              "ticks": ""
             }
            },
            "type": "scatterpolargl"
           }
          ],
          "scatterternary": [
           {
            "marker": {
             "colorbar": {
              "outlinewidth": 0,
              "ticks": ""
             }
            },
            "type": "scatterternary"
           }
          ],
          "surface": [
           {
            "colorbar": {
             "outlinewidth": 0,
             "ticks": ""
            },
            "colorscale": [
             [
              0,
              "#0d0887"
             ],
             [
              0.1111111111111111,
              "#46039f"
             ],
             [
              0.2222222222222222,
              "#7201a8"
             ],
             [
              0.3333333333333333,
              "#9c179e"
             ],
             [
              0.4444444444444444,
              "#bd3786"
             ],
             [
              0.5555555555555556,
              "#d8576b"
             ],
             [
              0.6666666666666666,
              "#ed7953"
             ],
             [
              0.7777777777777778,
              "#fb9f3a"
             ],
             [
              0.8888888888888888,
              "#fdca26"
             ],
             [
              1,
              "#f0f921"
             ]
            ],
            "type": "surface"
           }
          ],
          "table": [
           {
            "cells": {
             "fill": {
              "color": "#EBF0F8"
             },
             "line": {
              "color": "white"
             }
            },
            "header": {
             "fill": {
              "color": "#C8D4E3"
             },
             "line": {
              "color": "white"
             }
            },
            "type": "table"
           }
          ]
         },
         "layout": {
          "annotationdefaults": {
           "arrowcolor": "#2a3f5f",
           "arrowhead": 0,
           "arrowwidth": 1
          },
          "autotypenumbers": "strict",
          "coloraxis": {
           "colorbar": {
            "outlinewidth": 0,
            "ticks": ""
           }
          },
          "colorscale": {
           "diverging": [
            [
             0,
             "#8e0152"
            ],
            [
             0.1,
             "#c51b7d"
            ],
            [
             0.2,
             "#de77ae"
            ],
            [
             0.3,
             "#f1b6da"
            ],
            [
             0.4,
             "#fde0ef"
            ],
            [
             0.5,
             "#f7f7f7"
            ],
            [
             0.6,
             "#e6f5d0"
            ],
            [
             0.7,
             "#b8e186"
            ],
            [
             0.8,
             "#7fbc41"
            ],
            [
             0.9,
             "#4d9221"
            ],
            [
             1,
             "#276419"
            ]
           ],
           "sequential": [
            [
             0,
             "#0d0887"
            ],
            [
             0.1111111111111111,
             "#46039f"
            ],
            [
             0.2222222222222222,
             "#7201a8"
            ],
            [
             0.3333333333333333,
             "#9c179e"
            ],
            [
             0.4444444444444444,
             "#bd3786"
            ],
            [
             0.5555555555555556,
             "#d8576b"
            ],
            [
             0.6666666666666666,
             "#ed7953"
            ],
            [
             0.7777777777777778,
             "#fb9f3a"
            ],
            [
             0.8888888888888888,
             "#fdca26"
            ],
            [
             1,
             "#f0f921"
            ]
           ],
           "sequentialminus": [
            [
             0,
             "#0d0887"
            ],
            [
             0.1111111111111111,
             "#46039f"
            ],
            [
             0.2222222222222222,
             "#7201a8"
            ],
            [
             0.3333333333333333,
             "#9c179e"
            ],
            [
             0.4444444444444444,
             "#bd3786"
            ],
            [
             0.5555555555555556,
             "#d8576b"
            ],
            [
             0.6666666666666666,
             "#ed7953"
            ],
            [
             0.7777777777777778,
             "#fb9f3a"
            ],
            [
             0.8888888888888888,
             "#fdca26"
            ],
            [
             1,
             "#f0f921"
            ]
           ]
          },
          "colorway": [
           "#636efa",
           "#EF553B",
           "#00cc96",
           "#ab63fa",
           "#FFA15A",
           "#19d3f3",
           "#FF6692",
           "#B6E880",
           "#FF97FF",
           "#FECB52"
          ],
          "font": {
           "color": "#2a3f5f"
          },
          "geo": {
           "bgcolor": "white",
           "lakecolor": "white",
           "landcolor": "#E5ECF6",
           "showlakes": true,
           "showland": true,
           "subunitcolor": "white"
          },
          "hoverlabel": {
           "align": "left"
          },
          "hovermode": "closest",
          "mapbox": {
           "style": "light"
          },
          "paper_bgcolor": "white",
          "plot_bgcolor": "#E5ECF6",
          "polar": {
           "angularaxis": {
            "gridcolor": "white",
            "linecolor": "white",
            "ticks": ""
           },
           "bgcolor": "#E5ECF6",
           "radialaxis": {
            "gridcolor": "white",
            "linecolor": "white",
            "ticks": ""
           }
          },
          "scene": {
           "xaxis": {
            "backgroundcolor": "#E5ECF6",
            "gridcolor": "white",
            "gridwidth": 2,
            "linecolor": "white",
            "showbackground": true,
            "ticks": "",
            "zerolinecolor": "white"
           },
           "yaxis": {
            "backgroundcolor": "#E5ECF6",
            "gridcolor": "white",
            "gridwidth": 2,
            "linecolor": "white",
            "showbackground": true,
            "ticks": "",
            "zerolinecolor": "white"
           },
           "zaxis": {
            "backgroundcolor": "#E5ECF6",
            "gridcolor": "white",
            "gridwidth": 2,
            "linecolor": "white",
            "showbackground": true,
            "ticks": "",
            "zerolinecolor": "white"
           }
          },
          "shapedefaults": {
           "line": {
            "color": "#2a3f5f"
           }
          },
          "ternary": {
           "aaxis": {
            "gridcolor": "white",
            "linecolor": "white",
            "ticks": ""
           },
           "baxis": {
            "gridcolor": "white",
            "linecolor": "white",
            "ticks": ""
           },
           "bgcolor": "#E5ECF6",
           "caxis": {
            "gridcolor": "white",
            "linecolor": "white",
            "ticks": ""
           }
          },
          "title": {
           "x": 0.05
          },
          "xaxis": {
           "automargin": true,
           "gridcolor": "white",
           "linecolor": "white",
           "ticks": "",
           "title": {
            "standoff": 15
           },
           "zerolinecolor": "white",
           "zerolinewidth": 2
          },
          "yaxis": {
           "automargin": true,
           "gridcolor": "white",
           "linecolor": "white",
           "ticks": "",
           "title": {
            "standoff": 15
           },
           "zerolinecolor": "white",
           "zerolinewidth": 2
          }
         }
        },
        "title": {
         "text": "Distribution of Price against Area"
        },
        "xaxis": {
         "title": {
          "text": "Area"
         }
        },
        "yaxis": {
         "title": {
          "text": "Price"
         }
        }
       }
      }
     },
     "metadata": {},
     "output_type": "display_data"
    }
   ],
   "source": [
    "# finding the relationship between the price and area \n",
    "\n",
    "# Fit linear regression model\n",
    "X = df['area'].values.reshape(-1, 1)\n",
    "y = df['price'].values\n",
    "model = LinearRegression()\n",
    "model.fit(X, y)\n",
    "\n",
    "# Generate points for the trendline\n",
    "x_range = np.linspace(df['area'].min(), df['area'].max(), 100)\n",
    "y_pred = model.predict(x_range.reshape(-1, 1))\n",
    "\n",
    "# Create a scatter plot\n",
    "scatter_plot = go.Scatter(x=df['area'], y=df['price'], mode='markers', \n",
    "                          marker=dict(size=8, color='blue', opacity=0.5),\n",
    "                          name='Price vs. Area')\n",
    "\n",
    "# Add trendline to the scatter plot\n",
    "trendline = go.Scatter(x=x_range, y=y_pred, mode='lines', \n",
    "                       line=dict(color='red', width=3),\n",
    "                       name='Trendline')\n",
    "\n",
    "# Set plot layout\n",
    "layout = go.Layout(title='Distribution of Price against Area',\n",
    "                   xaxis=dict(title='Area'),\n",
    "                   yaxis=dict(title='Price'))\n",
    "\n",
    "# Create Figure object\n",
    "fig = go.Figure(data=[scatter_plot, trendline], layout=layout)\n",
    "\n",
    "fig.show()\n",
    "\n",
    "#It appears that there is a positive relationship between price and area, thus as the area size for a house increases it results in an increase in its price."
   ]
  },
  {
   "cell_type": "code",
   "execution_count": 26,
   "id": "27907aae",
   "metadata": {
    "scrolled": false
   },
   "outputs": [
    {
     "data": {
      "application/vnd.plotly.v1+json": {
       "config": {
        "plotlyServerURL": "https://plot.ly"
       },
       "data": [
        {
         "alignmentgroup": "True",
         "hovertemplate": "Number of Bathrooms=%{x}<br>Average Price=%{y}<extra></extra>",
         "legendgroup": "",
         "marker": {
          "color": "#636efa",
          "pattern": {
           "shape": ""
          }
         },
         "name": "",
         "offsetgroup": "",
         "orientation": "v",
         "showlegend": false,
         "textposition": "auto",
         "type": "bar",
         "x": [
          1,
          2,
          3,
          4
         ],
         "xaxis": "x",
         "y": [
          4206912.718204489,
          6209206.315789473,
          7282100,
          12250000
         ],
         "yaxis": "y"
        }
       ],
       "layout": {
        "barmode": "relative",
        "legend": {
         "tracegroupgap": 0
        },
        "template": {
         "data": {
          "bar": [
           {
            "error_x": {
             "color": "#2a3f5f"
            },
            "error_y": {
             "color": "#2a3f5f"
            },
            "marker": {
             "line": {
              "color": "#E5ECF6",
              "width": 0.5
             },
             "pattern": {
              "fillmode": "overlay",
              "size": 10,
              "solidity": 0.2
             }
            },
            "type": "bar"
           }
          ],
          "barpolar": [
           {
            "marker": {
             "line": {
              "color": "#E5ECF6",
              "width": 0.5
             },
             "pattern": {
              "fillmode": "overlay",
              "size": 10,
              "solidity": 0.2
             }
            },
            "type": "barpolar"
           }
          ],
          "carpet": [
           {
            "aaxis": {
             "endlinecolor": "#2a3f5f",
             "gridcolor": "white",
             "linecolor": "white",
             "minorgridcolor": "white",
             "startlinecolor": "#2a3f5f"
            },
            "baxis": {
             "endlinecolor": "#2a3f5f",
             "gridcolor": "white",
             "linecolor": "white",
             "minorgridcolor": "white",
             "startlinecolor": "#2a3f5f"
            },
            "type": "carpet"
           }
          ],
          "choropleth": [
           {
            "colorbar": {
             "outlinewidth": 0,
             "ticks": ""
            },
            "type": "choropleth"
           }
          ],
          "contour": [
           {
            "colorbar": {
             "outlinewidth": 0,
             "ticks": ""
            },
            "colorscale": [
             [
              0,
              "#0d0887"
             ],
             [
              0.1111111111111111,
              "#46039f"
             ],
             [
              0.2222222222222222,
              "#7201a8"
             ],
             [
              0.3333333333333333,
              "#9c179e"
             ],
             [
              0.4444444444444444,
              "#bd3786"
             ],
             [
              0.5555555555555556,
              "#d8576b"
             ],
             [
              0.6666666666666666,
              "#ed7953"
             ],
             [
              0.7777777777777778,
              "#fb9f3a"
             ],
             [
              0.8888888888888888,
              "#fdca26"
             ],
             [
              1,
              "#f0f921"
             ]
            ],
            "type": "contour"
           }
          ],
          "contourcarpet": [
           {
            "colorbar": {
             "outlinewidth": 0,
             "ticks": ""
            },
            "type": "contourcarpet"
           }
          ],
          "heatmap": [
           {
            "colorbar": {
             "outlinewidth": 0,
             "ticks": ""
            },
            "colorscale": [
             [
              0,
              "#0d0887"
             ],
             [
              0.1111111111111111,
              "#46039f"
             ],
             [
              0.2222222222222222,
              "#7201a8"
             ],
             [
              0.3333333333333333,
              "#9c179e"
             ],
             [
              0.4444444444444444,
              "#bd3786"
             ],
             [
              0.5555555555555556,
              "#d8576b"
             ],
             [
              0.6666666666666666,
              "#ed7953"
             ],
             [
              0.7777777777777778,
              "#fb9f3a"
             ],
             [
              0.8888888888888888,
              "#fdca26"
             ],
             [
              1,
              "#f0f921"
             ]
            ],
            "type": "heatmap"
           }
          ],
          "heatmapgl": [
           {
            "colorbar": {
             "outlinewidth": 0,
             "ticks": ""
            },
            "colorscale": [
             [
              0,
              "#0d0887"
             ],
             [
              0.1111111111111111,
              "#46039f"
             ],
             [
              0.2222222222222222,
              "#7201a8"
             ],
             [
              0.3333333333333333,
              "#9c179e"
             ],
             [
              0.4444444444444444,
              "#bd3786"
             ],
             [
              0.5555555555555556,
              "#d8576b"
             ],
             [
              0.6666666666666666,
              "#ed7953"
             ],
             [
              0.7777777777777778,
              "#fb9f3a"
             ],
             [
              0.8888888888888888,
              "#fdca26"
             ],
             [
              1,
              "#f0f921"
             ]
            ],
            "type": "heatmapgl"
           }
          ],
          "histogram": [
           {
            "marker": {
             "pattern": {
              "fillmode": "overlay",
              "size": 10,
              "solidity": 0.2
             }
            },
            "type": "histogram"
           }
          ],
          "histogram2d": [
           {
            "colorbar": {
             "outlinewidth": 0,
             "ticks": ""
            },
            "colorscale": [
             [
              0,
              "#0d0887"
             ],
             [
              0.1111111111111111,
              "#46039f"
             ],
             [
              0.2222222222222222,
              "#7201a8"
             ],
             [
              0.3333333333333333,
              "#9c179e"
             ],
             [
              0.4444444444444444,
              "#bd3786"
             ],
             [
              0.5555555555555556,
              "#d8576b"
             ],
             [
              0.6666666666666666,
              "#ed7953"
             ],
             [
              0.7777777777777778,
              "#fb9f3a"
             ],
             [
              0.8888888888888888,
              "#fdca26"
             ],
             [
              1,
              "#f0f921"
             ]
            ],
            "type": "histogram2d"
           }
          ],
          "histogram2dcontour": [
           {
            "colorbar": {
             "outlinewidth": 0,
             "ticks": ""
            },
            "colorscale": [
             [
              0,
              "#0d0887"
             ],
             [
              0.1111111111111111,
              "#46039f"
             ],
             [
              0.2222222222222222,
              "#7201a8"
             ],
             [
              0.3333333333333333,
              "#9c179e"
             ],
             [
              0.4444444444444444,
              "#bd3786"
             ],
             [
              0.5555555555555556,
              "#d8576b"
             ],
             [
              0.6666666666666666,
              "#ed7953"
             ],
             [
              0.7777777777777778,
              "#fb9f3a"
             ],
             [
              0.8888888888888888,
              "#fdca26"
             ],
             [
              1,
              "#f0f921"
             ]
            ],
            "type": "histogram2dcontour"
           }
          ],
          "mesh3d": [
           {
            "colorbar": {
             "outlinewidth": 0,
             "ticks": ""
            },
            "type": "mesh3d"
           }
          ],
          "parcoords": [
           {
            "line": {
             "colorbar": {
              "outlinewidth": 0,
              "ticks": ""
             }
            },
            "type": "parcoords"
           }
          ],
          "pie": [
           {
            "automargin": true,
            "type": "pie"
           }
          ],
          "scatter": [
           {
            "fillpattern": {
             "fillmode": "overlay",
             "size": 10,
             "solidity": 0.2
            },
            "type": "scatter"
           }
          ],
          "scatter3d": [
           {
            "line": {
             "colorbar": {
              "outlinewidth": 0,
              "ticks": ""
             }
            },
            "marker": {
             "colorbar": {
              "outlinewidth": 0,
              "ticks": ""
             }
            },
            "type": "scatter3d"
           }
          ],
          "scattercarpet": [
           {
            "marker": {
             "colorbar": {
              "outlinewidth": 0,
              "ticks": ""
             }
            },
            "type": "scattercarpet"
           }
          ],
          "scattergeo": [
           {
            "marker": {
             "colorbar": {
              "outlinewidth": 0,
              "ticks": ""
             }
            },
            "type": "scattergeo"
           }
          ],
          "scattergl": [
           {
            "marker": {
             "colorbar": {
              "outlinewidth": 0,
              "ticks": ""
             }
            },
            "type": "scattergl"
           }
          ],
          "scattermapbox": [
           {
            "marker": {
             "colorbar": {
              "outlinewidth": 0,
              "ticks": ""
             }
            },
            "type": "scattermapbox"
           }
          ],
          "scatterpolar": [
           {
            "marker": {
             "colorbar": {
              "outlinewidth": 0,
              "ticks": ""
             }
            },
            "type": "scatterpolar"
           }
          ],
          "scatterpolargl": [
           {
            "marker": {
             "colorbar": {
              "outlinewidth": 0,
              "ticks": ""
             }
            },
            "type": "scatterpolargl"
           }
          ],
          "scatterternary": [
           {
            "marker": {
             "colorbar": {
              "outlinewidth": 0,
              "ticks": ""
             }
            },
            "type": "scatterternary"
           }
          ],
          "surface": [
           {
            "colorbar": {
             "outlinewidth": 0,
             "ticks": ""
            },
            "colorscale": [
             [
              0,
              "#0d0887"
             ],
             [
              0.1111111111111111,
              "#46039f"
             ],
             [
              0.2222222222222222,
              "#7201a8"
             ],
             [
              0.3333333333333333,
              "#9c179e"
             ],
             [
              0.4444444444444444,
              "#bd3786"
             ],
             [
              0.5555555555555556,
              "#d8576b"
             ],
             [
              0.6666666666666666,
              "#ed7953"
             ],
             [
              0.7777777777777778,
              "#fb9f3a"
             ],
             [
              0.8888888888888888,
              "#fdca26"
             ],
             [
              1,
              "#f0f921"
             ]
            ],
            "type": "surface"
           }
          ],
          "table": [
           {
            "cells": {
             "fill": {
              "color": "#EBF0F8"
             },
             "line": {
              "color": "white"
             }
            },
            "header": {
             "fill": {
              "color": "#C8D4E3"
             },
             "line": {
              "color": "white"
             }
            },
            "type": "table"
           }
          ]
         },
         "layout": {
          "annotationdefaults": {
           "arrowcolor": "#2a3f5f",
           "arrowhead": 0,
           "arrowwidth": 1
          },
          "autotypenumbers": "strict",
          "coloraxis": {
           "colorbar": {
            "outlinewidth": 0,
            "ticks": ""
           }
          },
          "colorscale": {
           "diverging": [
            [
             0,
             "#8e0152"
            ],
            [
             0.1,
             "#c51b7d"
            ],
            [
             0.2,
             "#de77ae"
            ],
            [
             0.3,
             "#f1b6da"
            ],
            [
             0.4,
             "#fde0ef"
            ],
            [
             0.5,
             "#f7f7f7"
            ],
            [
             0.6,
             "#e6f5d0"
            ],
            [
             0.7,
             "#b8e186"
            ],
            [
             0.8,
             "#7fbc41"
            ],
            [
             0.9,
             "#4d9221"
            ],
            [
             1,
             "#276419"
            ]
           ],
           "sequential": [
            [
             0,
             "#0d0887"
            ],
            [
             0.1111111111111111,
             "#46039f"
            ],
            [
             0.2222222222222222,
             "#7201a8"
            ],
            [
             0.3333333333333333,
             "#9c179e"
            ],
            [
             0.4444444444444444,
             "#bd3786"
            ],
            [
             0.5555555555555556,
             "#d8576b"
            ],
            [
             0.6666666666666666,
             "#ed7953"
            ],
            [
             0.7777777777777778,
             "#fb9f3a"
            ],
            [
             0.8888888888888888,
             "#fdca26"
            ],
            [
             1,
             "#f0f921"
            ]
           ],
           "sequentialminus": [
            [
             0,
             "#0d0887"
            ],
            [
             0.1111111111111111,
             "#46039f"
            ],
            [
             0.2222222222222222,
             "#7201a8"
            ],
            [
             0.3333333333333333,
             "#9c179e"
            ],
            [
             0.4444444444444444,
             "#bd3786"
            ],
            [
             0.5555555555555556,
             "#d8576b"
            ],
            [
             0.6666666666666666,
             "#ed7953"
            ],
            [
             0.7777777777777778,
             "#fb9f3a"
            ],
            [
             0.8888888888888888,
             "#fdca26"
            ],
            [
             1,
             "#f0f921"
            ]
           ]
          },
          "colorway": [
           "#636efa",
           "#EF553B",
           "#00cc96",
           "#ab63fa",
           "#FFA15A",
           "#19d3f3",
           "#FF6692",
           "#B6E880",
           "#FF97FF",
           "#FECB52"
          ],
          "font": {
           "color": "#2a3f5f"
          },
          "geo": {
           "bgcolor": "white",
           "lakecolor": "white",
           "landcolor": "#E5ECF6",
           "showlakes": true,
           "showland": true,
           "subunitcolor": "white"
          },
          "hoverlabel": {
           "align": "left"
          },
          "hovermode": "closest",
          "mapbox": {
           "style": "light"
          },
          "paper_bgcolor": "white",
          "plot_bgcolor": "#E5ECF6",
          "polar": {
           "angularaxis": {
            "gridcolor": "white",
            "linecolor": "white",
            "ticks": ""
           },
           "bgcolor": "#E5ECF6",
           "radialaxis": {
            "gridcolor": "white",
            "linecolor": "white",
            "ticks": ""
           }
          },
          "scene": {
           "xaxis": {
            "backgroundcolor": "#E5ECF6",
            "gridcolor": "white",
            "gridwidth": 2,
            "linecolor": "white",
            "showbackground": true,
            "ticks": "",
            "zerolinecolor": "white"
           },
           "yaxis": {
            "backgroundcolor": "#E5ECF6",
            "gridcolor": "white",
            "gridwidth": 2,
            "linecolor": "white",
            "showbackground": true,
            "ticks": "",
            "zerolinecolor": "white"
           },
           "zaxis": {
            "backgroundcolor": "#E5ECF6",
            "gridcolor": "white",
            "gridwidth": 2,
            "linecolor": "white",
            "showbackground": true,
            "ticks": "",
            "zerolinecolor": "white"
           }
          },
          "shapedefaults": {
           "line": {
            "color": "#2a3f5f"
           }
          },
          "ternary": {
           "aaxis": {
            "gridcolor": "white",
            "linecolor": "white",
            "ticks": ""
           },
           "baxis": {
            "gridcolor": "white",
            "linecolor": "white",
            "ticks": ""
           },
           "bgcolor": "#E5ECF6",
           "caxis": {
            "gridcolor": "white",
            "linecolor": "white",
            "ticks": ""
           }
          },
          "title": {
           "x": 0.05
          },
          "xaxis": {
           "automargin": true,
           "gridcolor": "white",
           "linecolor": "white",
           "ticks": "",
           "title": {
            "standoff": 15
           },
           "zerolinecolor": "white",
           "zerolinewidth": 2
          },
          "yaxis": {
           "automargin": true,
           "gridcolor": "white",
           "linecolor": "white",
           "ticks": "",
           "title": {
            "standoff": 15
           },
           "zerolinecolor": "white",
           "zerolinewidth": 2
          }
         }
        },
        "title": {
         "text": "Average Price by Number of Bathrooms"
        },
        "xaxis": {
         "anchor": "y",
         "domain": [
          0,
          1
         ],
         "title": {
          "text": "Number of Bathrooms"
         }
        },
        "yaxis": {
         "anchor": "x",
         "domain": [
          0,
          1
         ],
         "title": {
          "text": "Average Price"
         }
        }
       }
      }
     },
     "metadata": {},
     "output_type": "display_data"
    }
   ],
   "source": [
    "\n",
    "# Group data by the number of bathrooms and calculate the average price for each group\n",
    "avg_price_by_bathrooms = df.groupby('bathrooms')['price'].mean().reset_index()\n",
    "\n",
    "# Create bar chart\n",
    "fig = px.bar(avg_price_by_bathrooms, x ='bathrooms', y='price',\n",
    "             title='Average Price by Number of Bathrooms',\n",
    "             labels= {'bathrooms':'Number of Bathrooms', 'price':'Average Price'})\n",
    "\n",
    "\n",
    "# Show the plot\n",
    "fig.show()"
   ]
  },
  {
   "cell_type": "code",
   "execution_count": 27,
   "id": "1cecab9b",
   "metadata": {},
   "outputs": [
    {
     "name": "stdout",
     "output_type": "stream",
     "text": [
      "Training dataset size: 327\n",
      "Validation dataset size: 109\n",
      "Test dataset size: 109\n"
     ]
    }
   ],
   "source": [
    "X = df.drop('price' , axis = 1 )\n",
    "y = df['price']\n",
    "# Split data into combined training-validation set and test set\n",
    "X_train_val, X_test, y_train_val, y_test = train_test_split(X, y, test_size=0.2, random_state=34)\n",
    "\n",
    "# Further split combined training-validation set into training and validation sets\n",
    "train_size = 0.75  # 60% of the original data for training\n",
    "val_size = 0.25    # 20% of the original data for validation\n",
    "\n",
    "# Calculate the number of samples for training and validation sets\n",
    "num_train_samples = int(len(X_train_val) * train_size)\n",
    "num_val_samples = int(len(X_train_val) * val_size)\n",
    "\n",
    "# Split the combined training-validation set into training and validation sets\n",
    "X_train, X_val, y_train, y_val = train_test_split(X_train_val, y_train_val, \n",
    "                                                  train_size=train_size, \n",
    "                                                  random_state=20)\n",
    "\n",
    "# Verify the sizes of each dataset\n",
    "print(\"Training dataset size:\", len(X_train))\n",
    "print(\"Validation dataset size:\", len(X_val))\n",
    "print(\"Test dataset size:\", len(X_test))\n"
   ]
  },
  {
   "cell_type": "code",
   "execution_count": 28,
   "id": "6dbf566e",
   "metadata": {},
   "outputs": [
    {
     "name": "stdout",
     "output_type": "stream",
     "text": [
      "Logistic Regression Validation Accuracy: 3.669724770642202\n",
      "Logistic Regression Test Accuracy: 1.834862385321101\n"
     ]
    }
   ],
   "source": [
    "# Train the logistic regression model using the combined training-validation set\n",
    "logistic_model = LogisticRegression()\n",
    "logistic_model.fit(X_train_val, y_train_val)\n",
    "\n",
    "# Predict on the validation set\n",
    "logistic_pred_val = logistic_model.predict(X_val)\n",
    "\n",
    "# Calculate accuracy on the validation set\n",
    "logistic_accuracy_val = accuracy_score(y_val, logistic_pred_val) * 100\n",
    "print(\"Logistic Regression Validation Accuracy:\", logistic_accuracy_val)\n",
    "\n",
    "# Predict on the test set\n",
    "logistic_pred_test = logistic_model.predict(X_test)\n",
    "\n",
    "# Calculate accuracy on the test set\n",
    "logistic_accuracy_test = accuracy_score(y_test, logistic_pred_test) * 100\n",
    "print(\"Logistic Regression Test Accuracy:\", logistic_accuracy_test)"
   ]
  },
  {
   "cell_type": "code",
   "execution_count": 29,
   "id": "97fd631f",
   "metadata": {},
   "outputs": [
    {
     "name": "stdout",
     "output_type": "stream",
     "text": [
      "Random Forest Validation Accuracy: 98.1651376146789\n",
      "Random Forest Test Accuracy: 4.587155963302752\n"
     ]
    }
   ],
   "source": [
    "# Train the random forest model using the combined training-validation set\n",
    "random_forest_model = RandomForestClassifier(n_estimators=120)\n",
    "random_forest_model.fit(X_train_val, y_train_val)\n",
    "\n",
    "# Predict on the validation set\n",
    "random_forest_pred_val = random_forest_model.predict(X_val)\n",
    "\n",
    "# Calculate accuracy on the validation set\n",
    "random_forest_accuracy_val = accuracy_score(y_val, random_forest_pred_val) * 100\n",
    "print(\"Random Forest Validation Accuracy:\", random_forest_accuracy_val)\n",
    "\n",
    "# Predict on the test set\n",
    "random_forest_pred_test = random_forest_model.predict(X_test)\n",
    "\n",
    "# Calculate accuracy on the test set\n",
    "random_forest_accuracy_test = accuracy_score(y_test, random_forest_pred_test) * 100\n",
    "print(\"Random Forest Test Accuracy:\", random_forest_accuracy_test)"
   ]
  },
  {
   "cell_type": "code",
   "execution_count": 30,
   "id": "e6602145",
   "metadata": {},
   "outputs": [
    {
     "name": "stdout",
     "output_type": "stream",
     "text": [
      "KNN Validation Accuracy: 33.02752293577982\n",
      "KNN Test Accuracy: 0.9174311926605505\n"
     ]
    }
   ],
   "source": [
    "# Train the KNN model using the combined training-validation set\n",
    "knn_model = KNeighborsClassifier(n_neighbors=3)\n",
    "knn_model.fit(X_train_val, y_train_val)\n",
    "\n",
    "# Predict on the validation set\n",
    "knn_pred_val = knn_model.predict(X_val)\n",
    "\n",
    "# Calculate accuracy on the validation set\n",
    "knn_accuracy_val = accuracy_score(y_val, knn_pred_val) * 100\n",
    "print(\"KNN Validation Accuracy:\", knn_accuracy_val)\n",
    "\n",
    "# Predict on the test set\n",
    "knn_pred_test = knn_model.predict(X_test)\n",
    "\n",
    "# Calculate accuracy on the test set\n",
    "knn_accuracy_test = accuracy_score(y_test, knn_pred_test) * 100\n",
    "print(\"KNN Test Accuracy:\", knn_accuracy_test)"
   ]
  },
  {
   "cell_type": "code",
   "execution_count": 31,
   "id": "d49d4490",
   "metadata": {},
   "outputs": [
    {
     "name": "stdout",
     "output_type": "stream",
     "text": [
      "Naive Bayes (Gaussian) Validation Accuracy: 55.04587155963303\n",
      "Naive Bayes (Gaussian) Test Accuracy: 0.0\n"
     ]
    }
   ],
   "source": [
    "# Train the Gaussian Naive Bayes model using the combined training-validation set\n",
    "naive_bayes_gaussian = GaussianNB()\n",
    "naive_bayes_gaussian.fit(X_train_val, y_train_val)\n",
    "\n",
    "# Predict on the validation set\n",
    "nbg_pred_val = naive_bayes_gaussian.predict(X_val)\n",
    "\n",
    "# Calculate accuracy on the validation set\n",
    "nbg_accuracy_val = accuracy_score(y_val, nbg_pred_val) * 100\n",
    "print(\"Naive Bayes (Gaussian) Validation Accuracy:\", nbg_accuracy_val)\n",
    "\n",
    "# Predict on the test set\n",
    "nbg_pred_test = naive_bayes_gaussian.predict(X_test)\n",
    "\n",
    "# Calculate accuracy on the test set\n",
    "nbg_accuracy_test = accuracy_score(y_test, nbg_pred_test) * 100\n",
    "print(\"Naive Bayes (Gaussian) Test Accuracy:\", nbg_accuracy_test)"
   ]
  },
  {
   "cell_type": "code",
   "execution_count": 32,
   "id": "21556abb",
   "metadata": {},
   "outputs": [
    {
     "name": "stdout",
     "output_type": "stream",
     "text": [
      "Support Vector Machine Validation Accuracy: 1.834862385321101\n",
      "Support Vector Machine Test Accuracy: 0.9174311926605505\n"
     ]
    }
   ],
   "source": [
    "# Train the Support Vector Machine (SVM) model using the combined training-validation set\n",
    "svc_model = SVC()\n",
    "svc_model.fit(X_train_val, y_train_val)\n",
    "\n",
    "# Predict on the validation set\n",
    "svm_pred_val = svc_model.predict(X_val)\n",
    "\n",
    "# Calculate accuracy on the validation set\n",
    "svm_accuracy_val = accuracy_score(y_val, svm_pred_val) * 100\n",
    "print(\"Support Vector Machine Validation Accuracy:\", svm_accuracy_val)\n",
    "\n",
    "# Predict on the test set\n",
    "svm_pred_test = svc_model.predict(X_test)\n",
    "\n",
    "# Calculate accuracy on the test set\n",
    "svm_accuracy_test = accuracy_score(y_test, svm_pred_test) * 100\n",
    "print(\"Support Vector Machine Test Accuracy:\", svm_accuracy_test)"
   ]
  },
  {
   "cell_type": "code",
   "execution_count": 33,
   "id": "4837f9d1",
   "metadata": {},
   "outputs": [
    {
     "name": "stdout",
     "output_type": "stream",
     "text": [
      "Gradient Boosting Classifier Validation Accuracy: 94.4954128440367\n",
      "Gradient Boosting Classifier Test Accuracy: 2.7522935779816518\n"
     ]
    }
   ],
   "source": [
    "# Train the Gradient Boosting Classifier (GBC) model using the combined training-validation set\n",
    "gbc_model = GradientBoostingClassifier()\n",
    "gbc_model.fit(X_train_val, y_train_val)\n",
    "\n",
    "# Predict on the validation set\n",
    "gbc_pred_val = gbc_model.predict(X_val)\n",
    "\n",
    "# Calculate accuracy on the validation set\n",
    "gbc_accuracy_val = accuracy_score(y_val, gbc_pred_val) * 100\n",
    "print(\"Gradient Boosting Classifier Validation Accuracy:\", gbc_accuracy_val)\n",
    "\n",
    "# Predict on the test set\n",
    "gbc_pred_test = gbc_model.predict(X_test)\n",
    "\n",
    "# Calculate accuracy on the test set\n",
    "gbc_accuracy_test = accuracy_score(y_test, gbc_pred_test) * 100\n",
    "print(\"Gradient Boosting Classifier Test Accuracy:\", gbc_accuracy_test)"
   ]
  },
  {
   "cell_type": "code",
   "execution_count": 34,
   "id": "49190a3b",
   "metadata": {},
   "outputs": [
    {
     "name": "stdout",
     "output_type": "stream",
     "text": [
      "   index                         Model  Validation Accuracy  Test Accuracy\n",
      "1      1                 random forest            98.165138       4.587156\n",
      "5      5  Gradient Boosting Classifier            94.495413       2.752294\n",
      "3      3                    Naive Base            55.045872       0.000000\n",
      "2      2            K-Nearest Neighbor            33.027523       0.917431\n",
      "0      0           logistic regression             3.669725       1.834862\n",
      "4      4        support vector machine             1.834862       0.917431\n"
     ]
    }
   ],
   "source": [
    "# Define lists to store model names and accuracies\n",
    "model_name = ['logistic regression', 'random forest', 'K-Nearest Neighbor', 'Naive Base', 'support vector machine', 'Gradient Boosting Classifier']\n",
    "model_val_accuracies = [logistic_accuracy_val, random_forest_accuracy_val, knn_accuracy_val, nbg_accuracy_val, svm_accuracy_val, gbc_accuracy_val]\n",
    "model_test_accuracies = [logistic_accuracy_test, random_forest_accuracy_test, knn_accuracy_test, nbg_accuracy_test, svm_accuracy_test, gbc_accuracy_test]\n",
    "\n",
    "# Create a DataFrame with model names and accuracies\n",
    "model_df = pd.DataFrame({'Model': model_name, 'Validation Accuracy': model_val_accuracies, 'Test Accuracy' : model_test_accuracies})\n",
    "\n",
    "# Sort the DataFrame by accuracy in descending order\n",
    "model_df = model_df.reset_index()\n",
    "model_df_sorted = model_df.sort_values(by=['Validation Accuracy', 'Test Accuracy'], ascending=[False, False])\n",
    "\n",
    "# Display the sorted DataFrame\n",
    "print(model_df_sorted)\n"
   ]
  },
  {
   "cell_type": "code",
   "execution_count": 35,
   "id": "2cc2cc8b",
   "metadata": {},
   "outputs": [
    {
     "data": {
      "application/vnd.plotly.v1+json": {
       "config": {
        "plotlyServerURL": "https://plot.ly"
       },
       "data": [
        {
         "alignmentgroup": "True",
         "hovertemplate": "variable=Validation Accuracy<br>Accuracy Level=%{x}<br>Model=%{y}<extra></extra>",
         "legendgroup": "Validation Accuracy",
         "marker": {
          "color": "#636efa",
          "pattern": {
           "shape": ""
          }
         },
         "name": "Validation Accuracy",
         "offsetgroup": "Validation Accuracy",
         "orientation": "h",
         "showlegend": true,
         "textposition": "auto",
         "type": "bar",
         "x": [
          98.1651376146789,
          94.4954128440367,
          55.04587155963303,
          33.02752293577982,
          3.669724770642202,
          1.834862385321101
         ],
         "xaxis": "x",
         "y": [
          "random forest",
          "Gradient Boosting Classifier",
          "Naive Base",
          "K-Nearest Neighbor",
          "logistic regression",
          "support vector machine"
         ],
         "yaxis": "y"
        },
        {
         "alignmentgroup": "True",
         "hovertemplate": "variable=Test Accuracy<br>Accuracy Level=%{x}<br>Model=%{y}<extra></extra>",
         "legendgroup": "Test Accuracy",
         "marker": {
          "color": "#EF553B",
          "pattern": {
           "shape": ""
          }
         },
         "name": "Test Accuracy",
         "offsetgroup": "Test Accuracy",
         "orientation": "h",
         "showlegend": true,
         "textposition": "auto",
         "type": "bar",
         "x": [
          4.587155963302752,
          2.7522935779816518,
          0,
          0.9174311926605505,
          1.834862385321101,
          0.9174311926605505
         ],
         "xaxis": "x",
         "y": [
          "random forest",
          "Gradient Boosting Classifier",
          "Naive Base",
          "K-Nearest Neighbor",
          "logistic regression",
          "support vector machine"
         ],
         "yaxis": "y"
        }
       ],
       "layout": {
        "barmode": "group",
        "legend": {
         "title": {
          "text": "variable"
         },
         "tracegroupgap": 0
        },
        "template": {
         "data": {
          "bar": [
           {
            "error_x": {
             "color": "#2a3f5f"
            },
            "error_y": {
             "color": "#2a3f5f"
            },
            "marker": {
             "line": {
              "color": "#E5ECF6",
              "width": 0.5
             },
             "pattern": {
              "fillmode": "overlay",
              "size": 10,
              "solidity": 0.2
             }
            },
            "type": "bar"
           }
          ],
          "barpolar": [
           {
            "marker": {
             "line": {
              "color": "#E5ECF6",
              "width": 0.5
             },
             "pattern": {
              "fillmode": "overlay",
              "size": 10,
              "solidity": 0.2
             }
            },
            "type": "barpolar"
           }
          ],
          "carpet": [
           {
            "aaxis": {
             "endlinecolor": "#2a3f5f",
             "gridcolor": "white",
             "linecolor": "white",
             "minorgridcolor": "white",
             "startlinecolor": "#2a3f5f"
            },
            "baxis": {
             "endlinecolor": "#2a3f5f",
             "gridcolor": "white",
             "linecolor": "white",
             "minorgridcolor": "white",
             "startlinecolor": "#2a3f5f"
            },
            "type": "carpet"
           }
          ],
          "choropleth": [
           {
            "colorbar": {
             "outlinewidth": 0,
             "ticks": ""
            },
            "type": "choropleth"
           }
          ],
          "contour": [
           {
            "colorbar": {
             "outlinewidth": 0,
             "ticks": ""
            },
            "colorscale": [
             [
              0,
              "#0d0887"
             ],
             [
              0.1111111111111111,
              "#46039f"
             ],
             [
              0.2222222222222222,
              "#7201a8"
             ],
             [
              0.3333333333333333,
              "#9c179e"
             ],
             [
              0.4444444444444444,
              "#bd3786"
             ],
             [
              0.5555555555555556,
              "#d8576b"
             ],
             [
              0.6666666666666666,
              "#ed7953"
             ],
             [
              0.7777777777777778,
              "#fb9f3a"
             ],
             [
              0.8888888888888888,
              "#fdca26"
             ],
             [
              1,
              "#f0f921"
             ]
            ],
            "type": "contour"
           }
          ],
          "contourcarpet": [
           {
            "colorbar": {
             "outlinewidth": 0,
             "ticks": ""
            },
            "type": "contourcarpet"
           }
          ],
          "heatmap": [
           {
            "colorbar": {
             "outlinewidth": 0,
             "ticks": ""
            },
            "colorscale": [
             [
              0,
              "#0d0887"
             ],
             [
              0.1111111111111111,
              "#46039f"
             ],
             [
              0.2222222222222222,
              "#7201a8"
             ],
             [
              0.3333333333333333,
              "#9c179e"
             ],
             [
              0.4444444444444444,
              "#bd3786"
             ],
             [
              0.5555555555555556,
              "#d8576b"
             ],
             [
              0.6666666666666666,
              "#ed7953"
             ],
             [
              0.7777777777777778,
              "#fb9f3a"
             ],
             [
              0.8888888888888888,
              "#fdca26"
             ],
             [
              1,
              "#f0f921"
             ]
            ],
            "type": "heatmap"
           }
          ],
          "heatmapgl": [
           {
            "colorbar": {
             "outlinewidth": 0,
             "ticks": ""
            },
            "colorscale": [
             [
              0,
              "#0d0887"
             ],
             [
              0.1111111111111111,
              "#46039f"
             ],
             [
              0.2222222222222222,
              "#7201a8"
             ],
             [
              0.3333333333333333,
              "#9c179e"
             ],
             [
              0.4444444444444444,
              "#bd3786"
             ],
             [
              0.5555555555555556,
              "#d8576b"
             ],
             [
              0.6666666666666666,
              "#ed7953"
             ],
             [
              0.7777777777777778,
              "#fb9f3a"
             ],
             [
              0.8888888888888888,
              "#fdca26"
             ],
             [
              1,
              "#f0f921"
             ]
            ],
            "type": "heatmapgl"
           }
          ],
          "histogram": [
           {
            "marker": {
             "pattern": {
              "fillmode": "overlay",
              "size": 10,
              "solidity": 0.2
             }
            },
            "type": "histogram"
           }
          ],
          "histogram2d": [
           {
            "colorbar": {
             "outlinewidth": 0,
             "ticks": ""
            },
            "colorscale": [
             [
              0,
              "#0d0887"
             ],
             [
              0.1111111111111111,
              "#46039f"
             ],
             [
              0.2222222222222222,
              "#7201a8"
             ],
             [
              0.3333333333333333,
              "#9c179e"
             ],
             [
              0.4444444444444444,
              "#bd3786"
             ],
             [
              0.5555555555555556,
              "#d8576b"
             ],
             [
              0.6666666666666666,
              "#ed7953"
             ],
             [
              0.7777777777777778,
              "#fb9f3a"
             ],
             [
              0.8888888888888888,
              "#fdca26"
             ],
             [
              1,
              "#f0f921"
             ]
            ],
            "type": "histogram2d"
           }
          ],
          "histogram2dcontour": [
           {
            "colorbar": {
             "outlinewidth": 0,
             "ticks": ""
            },
            "colorscale": [
             [
              0,
              "#0d0887"
             ],
             [
              0.1111111111111111,
              "#46039f"
             ],
             [
              0.2222222222222222,
              "#7201a8"
             ],
             [
              0.3333333333333333,
              "#9c179e"
             ],
             [
              0.4444444444444444,
              "#bd3786"
             ],
             [
              0.5555555555555556,
              "#d8576b"
             ],
             [
              0.6666666666666666,
              "#ed7953"
             ],
             [
              0.7777777777777778,
              "#fb9f3a"
             ],
             [
              0.8888888888888888,
              "#fdca26"
             ],
             [
              1,
              "#f0f921"
             ]
            ],
            "type": "histogram2dcontour"
           }
          ],
          "mesh3d": [
           {
            "colorbar": {
             "outlinewidth": 0,
             "ticks": ""
            },
            "type": "mesh3d"
           }
          ],
          "parcoords": [
           {
            "line": {
             "colorbar": {
              "outlinewidth": 0,
              "ticks": ""
             }
            },
            "type": "parcoords"
           }
          ],
          "pie": [
           {
            "automargin": true,
            "type": "pie"
           }
          ],
          "scatter": [
           {
            "fillpattern": {
             "fillmode": "overlay",
             "size": 10,
             "solidity": 0.2
            },
            "type": "scatter"
           }
          ],
          "scatter3d": [
           {
            "line": {
             "colorbar": {
              "outlinewidth": 0,
              "ticks": ""
             }
            },
            "marker": {
             "colorbar": {
              "outlinewidth": 0,
              "ticks": ""
             }
            },
            "type": "scatter3d"
           }
          ],
          "scattercarpet": [
           {
            "marker": {
             "colorbar": {
              "outlinewidth": 0,
              "ticks": ""
             }
            },
            "type": "scattercarpet"
           }
          ],
          "scattergeo": [
           {
            "marker": {
             "colorbar": {
              "outlinewidth": 0,
              "ticks": ""
             }
            },
            "type": "scattergeo"
           }
          ],
          "scattergl": [
           {
            "marker": {
             "colorbar": {
              "outlinewidth": 0,
              "ticks": ""
             }
            },
            "type": "scattergl"
           }
          ],
          "scattermapbox": [
           {
            "marker": {
             "colorbar": {
              "outlinewidth": 0,
              "ticks": ""
             }
            },
            "type": "scattermapbox"
           }
          ],
          "scatterpolar": [
           {
            "marker": {
             "colorbar": {
              "outlinewidth": 0,
              "ticks": ""
             }
            },
            "type": "scatterpolar"
           }
          ],
          "scatterpolargl": [
           {
            "marker": {
             "colorbar": {
              "outlinewidth": 0,
              "ticks": ""
             }
            },
            "type": "scatterpolargl"
           }
          ],
          "scatterternary": [
           {
            "marker": {
             "colorbar": {
              "outlinewidth": 0,
              "ticks": ""
             }
            },
            "type": "scatterternary"
           }
          ],
          "surface": [
           {
            "colorbar": {
             "outlinewidth": 0,
             "ticks": ""
            },
            "colorscale": [
             [
              0,
              "#0d0887"
             ],
             [
              0.1111111111111111,
              "#46039f"
             ],
             [
              0.2222222222222222,
              "#7201a8"
             ],
             [
              0.3333333333333333,
              "#9c179e"
             ],
             [
              0.4444444444444444,
              "#bd3786"
             ],
             [
              0.5555555555555556,
              "#d8576b"
             ],
             [
              0.6666666666666666,
              "#ed7953"
             ],
             [
              0.7777777777777778,
              "#fb9f3a"
             ],
             [
              0.8888888888888888,
              "#fdca26"
             ],
             [
              1,
              "#f0f921"
             ]
            ],
            "type": "surface"
           }
          ],
          "table": [
           {
            "cells": {
             "fill": {
              "color": "#EBF0F8"
             },
             "line": {
              "color": "white"
             }
            },
            "header": {
             "fill": {
              "color": "#C8D4E3"
             },
             "line": {
              "color": "white"
             }
            },
            "type": "table"
           }
          ]
         },
         "layout": {
          "annotationdefaults": {
           "arrowcolor": "#2a3f5f",
           "arrowhead": 0,
           "arrowwidth": 1
          },
          "autotypenumbers": "strict",
          "coloraxis": {
           "colorbar": {
            "outlinewidth": 0,
            "ticks": ""
           }
          },
          "colorscale": {
           "diverging": [
            [
             0,
             "#8e0152"
            ],
            [
             0.1,
             "#c51b7d"
            ],
            [
             0.2,
             "#de77ae"
            ],
            [
             0.3,
             "#f1b6da"
            ],
            [
             0.4,
             "#fde0ef"
            ],
            [
             0.5,
             "#f7f7f7"
            ],
            [
             0.6,
             "#e6f5d0"
            ],
            [
             0.7,
             "#b8e186"
            ],
            [
             0.8,
             "#7fbc41"
            ],
            [
             0.9,
             "#4d9221"
            ],
            [
             1,
             "#276419"
            ]
           ],
           "sequential": [
            [
             0,
             "#0d0887"
            ],
            [
             0.1111111111111111,
             "#46039f"
            ],
            [
             0.2222222222222222,
             "#7201a8"
            ],
            [
             0.3333333333333333,
             "#9c179e"
            ],
            [
             0.4444444444444444,
             "#bd3786"
            ],
            [
             0.5555555555555556,
             "#d8576b"
            ],
            [
             0.6666666666666666,
             "#ed7953"
            ],
            [
             0.7777777777777778,
             "#fb9f3a"
            ],
            [
             0.8888888888888888,
             "#fdca26"
            ],
            [
             1,
             "#f0f921"
            ]
           ],
           "sequentialminus": [
            [
             0,
             "#0d0887"
            ],
            [
             0.1111111111111111,
             "#46039f"
            ],
            [
             0.2222222222222222,
             "#7201a8"
            ],
            [
             0.3333333333333333,
             "#9c179e"
            ],
            [
             0.4444444444444444,
             "#bd3786"
            ],
            [
             0.5555555555555556,
             "#d8576b"
            ],
            [
             0.6666666666666666,
             "#ed7953"
            ],
            [
             0.7777777777777778,
             "#fb9f3a"
            ],
            [
             0.8888888888888888,
             "#fdca26"
            ],
            [
             1,
             "#f0f921"
            ]
           ]
          },
          "colorway": [
           "#636efa",
           "#EF553B",
           "#00cc96",
           "#ab63fa",
           "#FFA15A",
           "#19d3f3",
           "#FF6692",
           "#B6E880",
           "#FF97FF",
           "#FECB52"
          ],
          "font": {
           "color": "#2a3f5f"
          },
          "geo": {
           "bgcolor": "white",
           "lakecolor": "white",
           "landcolor": "#E5ECF6",
           "showlakes": true,
           "showland": true,
           "subunitcolor": "white"
          },
          "hoverlabel": {
           "align": "left"
          },
          "hovermode": "closest",
          "mapbox": {
           "style": "light"
          },
          "paper_bgcolor": "white",
          "plot_bgcolor": "#E5ECF6",
          "polar": {
           "angularaxis": {
            "gridcolor": "white",
            "linecolor": "white",
            "ticks": ""
           },
           "bgcolor": "#E5ECF6",
           "radialaxis": {
            "gridcolor": "white",
            "linecolor": "white",
            "ticks": ""
           }
          },
          "scene": {
           "xaxis": {
            "backgroundcolor": "#E5ECF6",
            "gridcolor": "white",
            "gridwidth": 2,
            "linecolor": "white",
            "showbackground": true,
            "ticks": "",
            "zerolinecolor": "white"
           },
           "yaxis": {
            "backgroundcolor": "#E5ECF6",
            "gridcolor": "white",
            "gridwidth": 2,
            "linecolor": "white",
            "showbackground": true,
            "ticks": "",
            "zerolinecolor": "white"
           },
           "zaxis": {
            "backgroundcolor": "#E5ECF6",
            "gridcolor": "white",
            "gridwidth": 2,
            "linecolor": "white",
            "showbackground": true,
            "ticks": "",
            "zerolinecolor": "white"
           }
          },
          "shapedefaults": {
           "line": {
            "color": "#2a3f5f"
           }
          },
          "ternary": {
           "aaxis": {
            "gridcolor": "white",
            "linecolor": "white",
            "ticks": ""
           },
           "baxis": {
            "gridcolor": "white",
            "linecolor": "white",
            "ticks": ""
           },
           "bgcolor": "#E5ECF6",
           "caxis": {
            "gridcolor": "white",
            "linecolor": "white",
            "ticks": ""
           }
          },
          "title": {
           "x": 0.05
          },
          "xaxis": {
           "automargin": true,
           "gridcolor": "white",
           "linecolor": "white",
           "ticks": "",
           "title": {
            "standoff": 15
           },
           "zerolinecolor": "white",
           "zerolinewidth": 2
          },
          "yaxis": {
           "automargin": true,
           "gridcolor": "white",
           "linecolor": "white",
           "ticks": "",
           "title": {
            "standoff": 15
           },
           "zerolinecolor": "white",
           "zerolinewidth": 2
          }
         }
        },
        "title": {
         "text": "Validation and Test Accuracy levels for Each Model"
        },
        "xaxis": {
         "anchor": "y",
         "domain": [
          0,
          1
         ],
         "title": {
          "text": "Accuracy Level"
         }
        },
        "yaxis": {
         "anchor": "x",
         "domain": [
          0,
          1
         ],
         "title": {
          "text": "Model"
         }
        }
       }
      }
     },
     "metadata": {},
     "output_type": "display_data"
    }
   ],
   "source": [
    "fig =px.bar(model_df_sorted, x=['Validation Accuracy', 'Test Accuracy'], y='Model',\n",
    "           title= 'Validation and Test Accuracy levels for Each Model',\n",
    "          labels={'value':'Accuracy Level','Model':'Model'},)\n",
    "fig.update_layout(barmode='group')\n",
    "fig.show()"
   ]
  },
  {
   "cell_type": "code",
   "execution_count": 36,
   "id": "74c5ac98",
   "metadata": {},
   "outputs": [],
   "source": [
    "#saving best model to file using pickle\n",
    "\n",
    "file_name = \"Price_Prediction_model.h5\"\n",
    "\n",
    "Price_Prediction_model = pickle.dump(random_forest_model,open(file_name, 'wb'))"
   ]
  },
  {
   "cell_type": "code",
   "execution_count": 37,
   "id": "3068d3d9",
   "metadata": {},
   "outputs": [
    {
     "data": {
      "text/plain": [
       "Index(['area', 'bedrooms', 'bathrooms', 'stories', 'main_road', 'guestroom',\n",
       "       'basement', 'hotwater_heating', 'air_conditioning', 'parking',\n",
       "       'pref_area', 'furnishing_status'],\n",
       "      dtype='object')"
      ]
     },
     "execution_count": 37,
     "metadata": {},
     "output_type": "execute_result"
    }
   ],
   "source": [
    "X_train.columns"
   ]
  },
  {
   "cell_type": "code",
   "execution_count": null,
   "id": "404a5e10",
   "metadata": {},
   "outputs": [
    {
     "data": {
      "text/plain": [
       "13300000"
      ]
     },
     "execution_count": 38,
     "metadata": {},
     "output_type": "execute_result"
    }
   ],
   "source": [
    "#loading saved model for prediction\n",
    "model_filename = \"Price_Prediction_model.h5\"\n",
    "\n",
    "Price_Prediction_model = pickle.load(open(model_filename, 'rb'))\n",
    "#'area':any number, 'bedrooms':1-6 , 'bathrooms':1-4, 'stories':1-4, 'main_road':0,1, 'guestroom':0,1,\n",
    "#'basement':0,1, 'hotwater_heating':0,1, 'air_conditioning':0,1, 'parking':0-3,\n",
    "#'pref_area':0,1, 'furnishing_status':0,1,2\n",
    "\n",
    "#sample from housing.csv, excel(spreadsheet) row 2\n",
    "values=[7420,4,2,3,1,0,0,0,1,2,1,2]\n",
    "df=pd.DataFrame([values])\n",
    "df.columns=X_train.columns\n",
    "#df\n",
    "result = Price_Prediction_model.predict(df)\n",
    "\n",
    "result[0]\n",
    "\n"
   ]
  },
  {
   "cell_type": "code",
   "execution_count": null,
   "id": "d16ab59c",
   "metadata": {},
   "outputs": [],
   "source": [
    "import tensorflow as tf\n",
    "\n",
    "# Load the Keras model\n",
    "model = tf.keras.models.load_model(\"Price_Prediction_model.h5\")\n",
    "\n",
    "# Convert the model to TensorFlow Lite format with quantization\n",
    "converter = tf.lite.TFLiteConverter.from_keras_model(model)\n",
    "converter.optimizations = [tf.lite.Optimize.DEFAULT]  # Apply optimization to reduce model size\n",
    "tflite_model = converter.convert()\n",
    "\n",
    "# Save the TensorFlow Lite model to a file\n",
    "with open(\"Price_Prediction_model.tflite\", \"wb\") as f:\n",
    "    f.write(tflite_model)\n",
    "\n",
    "print(\"Model conversion completed. The file 'Price_Prediction_model.tflite' is now available and should be much smaller.\")"
   ]
  },
  {
   "cell_type": "code",
   "execution_count": null,
   "id": "1089ce80",
   "metadata": {},
   "outputs": [],
   "source": [
    "#loading saved model for prediction\n",
    "new_model_filename = \"Price_Prediction_model.tflite\"\n",
    "\n",
    "Price_Prediction_model = pickle.load(open(new_model_filename, 'rb'))\n",
    "#'area':any number, 'bedrooms':1-6 , 'bathrooms':1-4, 'stories':1-4, 'main_road':0,1, 'guestroom':0,1,\n",
    "#'basement':0,1, 'hotwater_heating':0,1, 'air_conditioning':0,1, 'parking':0-3,\n",
    "#'pref_area':0,1, 'furnishing_status':0,1,2\n",
    "\n",
    "#sample from housing.csv, excel(spreadsheet) row 2\n",
    "values=[7420,4,2,3,1,0,0,0,1,2,1,2]\n",
    "df=pd.DataFrame([values])\n",
    "df.columns=X_train.columns\n",
    "#df\n",
    "result = Price_Prediction_model.predict(df)\n",
    "\n",
    "result[0]"
   ]
  }
 ],
 "metadata": {
  "kernelspec": {
   "display_name": "Python 3 (ipykernel)",
   "language": "python",
   "name": "python3"
  },
  "language_info": {
   "codemirror_mode": {
    "name": "ipython",
    "version": 3
   },
   "file_extension": ".py",
   "mimetype": "text/x-python",
   "name": "python",
   "nbconvert_exporter": "python",
   "pygments_lexer": "ipython3",
   "version": "3.11.5"
  }
 },
 "nbformat": 4,
 "nbformat_minor": 5
}
